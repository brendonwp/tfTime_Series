{
 "cells": [
  {
   "cell_type": "markdown",
   "id": "9ce60c50",
   "metadata": {
    "id": "9ce60c50"
   },
   "source": [
    "# Tensorflow Temperature Forecasting \n",
    "## Based on the Tensorflow TS Tutorial\n",
    "#### https://www.tensorflow.org/tutorials/structured_data/time_series\n",
    "### Last Updated: April 2024 "
   ]
  },
  {
   "cell_type": "markdown",
   "id": "10f781cd",
   "metadata": {},
   "source": [
    "### Illustrates the use of time series modelling using different techniques (one-shot vs many-shot) and architectures. \n",
    "\n",
    "### 1. Data Exploration\n",
    "### 2. Data Cleaning and Feature Engineering\n",
    "### 3. Preprocessing the data\n",
    "### 4. Data windowing\n",
    "### 5. Single Step Models\n",
    "#### 5.1 Linear Model\n",
    "#### 5.2 Dense\n",
    "#### 5.3 Multi-Step Dense\n",
    "#### 5.4 CNN\n",
    "#### 5.5 RNN\n",
    "### 6. Multi-Output Models\n",
    "#### 6.1 Dense\n",
    "#### 6.2 RNN\n",
    "### 7. Advanced: Residual Connections\n",
    "### 8. Multi-Step Models\n",
    "#### 8.1 Baselines\n",
    "#### 8.2 Single-shot Models\n",
    "### 9. Advanced: Autoregressive Model \n",
    "#### 9.1 RNN"
   ]
  },
  {
   "cell_type": "code",
   "execution_count": null,
   "id": "5ba350b7",
   "metadata": {
    "executionInfo": {
     "elapsed": 1285,
     "status": "ok",
     "timestamp": 1684143858694,
     "user": {
      "displayName": "brendon wolff-piggott",
      "userId": "10675047123266597705"
     },
     "user_tz": -120
    },
    "id": "5ba350b7"
   },
   "outputs": [],
   "source": [
    "import os\n",
    "import datetime\n",
    "\n",
    "import IPython\n",
    "import IPython.display\n",
    "import matplotlib as mpl\n",
    "import matplotlib.pyplot as plt\n",
    "import numpy as np\n",
    "import pandas as pd\n",
    "import seaborn as sns\n",
    "import tensorflow as tf\n",
    "\n",
    "mpl.rcParams['figure.figsize'] = (8, 6)\n",
    "mpl.rcParams['axes.grid'] = False"
   ]
  },
  {
   "cell_type": "code",
   "execution_count": null,
   "id": "d7ba60b9",
   "metadata": {
    "colab": {
     "base_uri": "https://localhost:8080/"
    },
    "executionInfo": {
     "elapsed": 2713,
     "status": "ok",
     "timestamp": 1684143866642,
     "user": {
      "displayName": "brendon wolff-piggott",
      "userId": "10675047123266597705"
     },
     "user_tz": -120
    },
    "id": "d7ba60b9",
    "outputId": "66ee7f18-a6b1-48f0-e51c-f0502fdf29c7"
   },
   "outputs": [],
   "source": [
    "zip_path = tf.keras.utils.get_file(\n",
    "    origin='https://storage.googleapis.com/tensorflow/tf-keras-datasets/jena_climate_2009_2016.csv.zip',\n",
    "    fname='jena_climate_2009_2016.csv.zip',\n",
    "    extract=True)\n",
    "csv_path, _ = os.path.splitext(zip_path)"
   ]
  },
  {
   "cell_type": "code",
   "execution_count": null,
   "id": "11f9253b",
   "metadata": {
    "executionInfo": {
     "elapsed": 4756,
     "status": "ok",
     "timestamp": 1684143850524,
     "user": {
      "displayName": "brendon wolff-piggott",
      "userId": "10675047123266597705"
     },
     "user_tz": -120
    },
    "id": "11f9253b"
   },
   "outputs": [],
   "source": [
    "from tensorflow.config.experimental import list_physical_devices, set_memory_growth\n",
    "physical_devices = list_physical_devices('GPU')\n",
    "set_memory_growth(physical_devices[0], True)"
   ]
  },
  {
   "cell_type": "markdown",
   "id": "47375ade",
   "metadata": {
    "id": "47375ade"
   },
   "source": [
    "## 1. Data Exploration"
   ]
  },
  {
   "cell_type": "code",
   "execution_count": null,
   "id": "b7b107cb",
   "metadata": {
    "executionInfo": {
     "elapsed": 484,
     "status": "ok",
     "timestamp": 1684143871953,
     "user": {
      "displayName": "brendon wolff-piggott",
      "userId": "10675047123266597705"
     },
     "user_tz": -120
    },
    "id": "b7b107cb"
   },
   "outputs": [],
   "source": [
    "df = pd.read_csv(csv_path)\n",
    "# Slice [start:stop:step], starting from index 5 take every 6th record.\n",
    "df = df[5::6]\n",
    "\n",
    "date_time = pd.to_datetime(df.pop('Date Time'), format='%d.%m.%Y %H:%M:%S')"
   ]
  },
  {
   "cell_type": "code",
   "execution_count": null,
   "id": "bec335a3",
   "metadata": {
    "colab": {
     "base_uri": "https://localhost:8080/",
     "height": 285
    },
    "executionInfo": {
     "elapsed": 675,
     "status": "ok",
     "timestamp": 1684143876289,
     "user": {
      "displayName": "brendon wolff-piggott",
      "userId": "10675047123266597705"
     },
     "user_tz": -120
    },
    "id": "bec335a3",
    "outputId": "26d2b07a-ef1f-4452-82be-db560019c12e"
   },
   "outputs": [],
   "source": [
    "df.head()"
   ]
  },
  {
   "cell_type": "code",
   "execution_count": null,
   "id": "3228da54",
   "metadata": {
    "colab": {
     "base_uri": "https://localhost:8080/",
     "height": 1000
    },
    "executionInfo": {
     "elapsed": 5452,
     "status": "ok",
     "timestamp": 1684143885614,
     "user": {
      "displayName": "brendon wolff-piggott",
      "userId": "10675047123266597705"
     },
     "user_tz": -120
    },
    "id": "3228da54",
    "outputId": "cbfe8e2d-e43c-4f39-97a6-96c6a0081d93"
   },
   "outputs": [],
   "source": [
    "plot_cols = ['T (degC)', 'p (mbar)', 'rho (g/m**3)']\n",
    "plot_features = df[plot_cols]\n",
    "plot_features.index = date_time\n",
    "_ = plot_features.plot(subplots=True)\n",
    "\n",
    "plot_features = df[plot_cols][:480]\n",
    "plot_features.index = date_time[:480]\n",
    "_ = plot_features.plot(subplots=True)"
   ]
  },
  {
   "cell_type": "code",
   "execution_count": null,
   "id": "38a799dd",
   "metadata": {
    "colab": {
     "base_uri": "https://localhost:8080/",
     "height": 489
    },
    "executionInfo": {
     "elapsed": 534,
     "status": "ok",
     "timestamp": 1684143890437,
     "user": {
      "displayName": "brendon wolff-piggott",
      "userId": "10675047123266597705"
     },
     "user_tz": -120
    },
    "id": "38a799dd",
    "outputId": "89a229aa-86db-42fe-8fee-5166e6560e53"
   },
   "outputs": [],
   "source": [
    "df.describe().transpose()"
   ]
  },
  {
   "cell_type": "markdown",
   "id": "6edde6c0",
   "metadata": {
    "id": "6edde6c0"
   },
   "source": [
    "## 2. Data Cleaning"
   ]
  },
  {
   "cell_type": "markdown",
   "id": "7394bd2e",
   "metadata": {
    "id": "7394bd2e"
   },
   "source": [
    "### One thing that should stand out is the min value of the wind velocity (wv (m/s)) and the maximum value (max. wv (m/s)) columns. This -9999 is likely erroneous.\n",
    "\n",
    "### There's a separate wind direction column, so the velocity should be greater than zero (>=0). Replace it with zeros:"
   ]
  },
  {
   "cell_type": "code",
   "execution_count": null,
   "id": "468769bb",
   "metadata": {
    "colab": {
     "base_uri": "https://localhost:8080/"
    },
    "executionInfo": {
     "elapsed": 527,
     "status": "ok",
     "timestamp": 1684143898146,
     "user": {
      "displayName": "brendon wolff-piggott",
      "userId": "10675047123266597705"
     },
     "user_tz": -120
    },
    "id": "468769bb",
    "outputId": "fe09ac32-aa07-4c72-9c9a-93526de142e9"
   },
   "outputs": [],
   "source": [
    "wv = df['wv (m/s)']\n",
    "bad_wv = wv == -9999.0\n",
    "wv[bad_wv] = 0.0\n",
    "\n",
    "max_wv = df['max. wv (m/s)']\n",
    "bad_max_wv = max_wv == -9999.0\n",
    "max_wv[bad_max_wv] = 0.0\n",
    "\n",
    "# The above inplace edits are reflected in the DataFrame.\n",
    "df['wv (m/s)'].min()"
   ]
  },
  {
   "cell_type": "markdown",
   "id": "531765f1",
   "metadata": {
    "id": "531765f1"
   },
   "source": [
    "## Feature engineering\n",
    "### Before diving in to build a model, it's important to understand your data and be sure that you're passing the model appropriately formatted data.\n",
    "\n",
    "### Wind\n",
    "### The last column of the data, wd (deg)—gives the wind direction in units of degrees. Angles do not make good model inputs: 360° and 0° should be close to each other and wrap around smoothly. Direction shouldn't matter if the wind is not blowing.\n",
    "\n",
    "### Right now the distribution of wind data looks like this:"
   ]
  },
  {
   "cell_type": "code",
   "execution_count": null,
   "id": "67d1007a",
   "metadata": {
    "id": "67d1007a",
    "outputId": "9661a448-4889-4a96-9777-b286dafe5b53"
   },
   "outputs": [],
   "source": [
    "plt.hist2d(df['wd (deg)'], df['wv (m/s)'], bins=(50, 50), vmax=400)\n",
    "plt.colorbar()\n",
    "plt.xlabel('Wind Direction [deg]')\n",
    "plt.ylabel('Wind Velocity [m/s]')"
   ]
  },
  {
   "cell_type": "markdown",
   "id": "5247bf32",
   "metadata": {
    "id": "5247bf32"
   },
   "source": [
    "### But this will be easier for the model to interpret if you convert the wind direction and velocity columns to a wind vector:"
   ]
  },
  {
   "cell_type": "code",
   "execution_count": null,
   "id": "8e0c9d70",
   "metadata": {
    "id": "8e0c9d70"
   },
   "outputs": [],
   "source": [
    "wv = df.pop('wv (m/s)')\n",
    "max_wv = df.pop('max. wv (m/s)')\n",
    "\n",
    "# Convert to radians.\n",
    "wd_rad = df.pop('wd (deg)')*np.pi / 180\n",
    "\n",
    "# Calculate the wind x and y components.\n",
    "df['Wx'] = wv*np.cos(wd_rad)\n",
    "df['Wy'] = wv*np.sin(wd_rad)\n",
    "\n",
    "# Calculate the max wind x and y components.\n",
    "df['max Wx'] = max_wv*np.cos(wd_rad)\n",
    "df['max Wy'] = max_wv*np.sin(wd_rad)"
   ]
  },
  {
   "cell_type": "markdown",
   "id": "b038c885",
   "metadata": {
    "id": "b038c885"
   },
   "source": [
    "### The distribution of wind vectors is much simpler for the model to correctly interpret:"
   ]
  },
  {
   "cell_type": "code",
   "execution_count": null,
   "id": "ee9d7237",
   "metadata": {
    "id": "ee9d7237",
    "outputId": "74d781ed-dde1-405e-cf53-71cf5064d966"
   },
   "outputs": [],
   "source": [
    "plt.hist2d(df['Wx'], df['Wy'], bins=(50, 50), vmax=400)\n",
    "plt.colorbar()\n",
    "plt.xlabel('Wind X [m/s]')\n",
    "plt.ylabel('Wind Y [m/s]')\n",
    "ax = plt.gca()\n",
    "ax.axis('tight')"
   ]
  },
  {
   "cell_type": "markdown",
   "id": "4168a6df",
   "metadata": {
    "id": "4168a6df"
   },
   "source": [
    "### Time\n",
    "### Similarly, the Date Time column is very useful, but not in this string form. Start by converting it to seconds:"
   ]
  },
  {
   "cell_type": "code",
   "execution_count": null,
   "id": "fa7fba0f",
   "metadata": {
    "id": "fa7fba0f"
   },
   "outputs": [],
   "source": [
    "timestamp_s = date_time.map(pd.Timestamp.timestamp)"
   ]
  },
  {
   "cell_type": "markdown",
   "id": "5d7cd26e",
   "metadata": {
    "id": "5d7cd26e"
   },
   "source": [
    "### Similar to the wind direction, the time in seconds is not a useful model input. Being weather data, it has clear daily and yearly periodicity. There are many ways you could deal with periodicity.\n",
    "\n",
    "### You can get usable signals by using sine and cosine transforms to clear \"Time of day\" and \"Time of year\" signals:"
   ]
  },
  {
   "cell_type": "code",
   "execution_count": null,
   "id": "d8285c3a",
   "metadata": {
    "id": "d8285c3a"
   },
   "outputs": [],
   "source": [
    "day = 24*60*60\n",
    "year = (365.2425)*day\n",
    "\n",
    "df['Day sin'] = np.sin(timestamp_s * (2 * np.pi / day))\n",
    "df['Day cos'] = np.cos(timestamp_s * (2 * np.pi / day))\n",
    "df['Year sin'] = np.sin(timestamp_s * (2 * np.pi / year))\n",
    "df['Year cos'] = np.cos(timestamp_s * (2 * np.pi / year))"
   ]
  },
  {
   "cell_type": "code",
   "execution_count": null,
   "id": "8bc8b508",
   "metadata": {
    "id": "8bc8b508",
    "outputId": "41773e4d-89f0-45c5-f33b-d70d2836ee40"
   },
   "outputs": [],
   "source": [
    "plt.plot(np.array(df['Day sin'])[:25])\n",
    "plt.plot(np.array(df['Day cos'])[:25])\n",
    "plt.xlabel('Time [h]')\n",
    "plt.title('Time of day signal')"
   ]
  },
  {
   "cell_type": "markdown",
   "id": "4c6e72a9",
   "metadata": {
    "id": "4c6e72a9"
   },
   "source": [
    "### This gives the model access to the most important frequency features. In this case you knew ahead of time which frequencies were important.\n",
    "\n",
    "### If you don't have that information, you can determine which frequencies are important by extracting features with Fast Fourier Transform. To check the assumptions, here is the tf.signal.rfft of the temperature over time. Note the obvious peaks at frequencies near 1/year and 1/day:"
   ]
  },
  {
   "cell_type": "code",
   "execution_count": null,
   "id": "2bbc0f2f",
   "metadata": {
    "id": "2bbc0f2f",
    "outputId": "1f99e75e-b010-4163-c027-476ddd0fb24a"
   },
   "outputs": [],
   "source": [
    "fft = tf.signal.rfft(df['T (degC)'])\n",
    "f_per_dataset = np.arange(0, len(fft))\n",
    "\n",
    "n_samples_h = len(df['T (degC)'])\n",
    "hours_per_year = 24*365.2524\n",
    "years_per_dataset = n_samples_h/(hours_per_year)\n",
    "\n",
    "f_per_year = f_per_dataset/years_per_dataset\n",
    "plt.step(f_per_year, np.abs(fft))\n",
    "plt.xscale('log')\n",
    "plt.ylim(0, 400000)\n",
    "plt.xlim([0.1, max(plt.xlim())])\n",
    "plt.xticks([1, 365.2524], labels=['1/Year', '1/day'])\n",
    "_ = plt.xlabel('Frequency (log scale)')"
   ]
  },
  {
   "cell_type": "markdown",
   "id": "0cfcc3b5",
   "metadata": {
    "id": "0cfcc3b5"
   },
   "source": [
    "## 3. Preprocess the Data\n",
    "### Split the data\n",
    "### You'll use a (70%, 20%, 10%) split for the training, validation, and test sets. Note the data is not being randomly shuffled before splitting. This is for two reasons:\n",
    "\n",
    "### It ensures that chopping the data into windows of consecutive samples is still possible.\n",
    "### It ensures that the validation/test results are more realistic, being evaluated on the data collected after the model was trained."
   ]
  },
  {
   "cell_type": "code",
   "execution_count": null,
   "id": "dd752e6b",
   "metadata": {
    "id": "dd752e6b"
   },
   "outputs": [],
   "source": [
    "column_indices = {name: i for i, name in enumerate(df.columns)}\n",
    "\n",
    "n = len(df)\n",
    "train_df = df[0:int(n*0.7)]\n",
    "val_df = df[int(n*0.7):int(n*0.9)]\n",
    "test_df = df[int(n*0.9):]\n",
    "\n",
    "num_features = df.shape[1]"
   ]
  },
  {
   "cell_type": "markdown",
   "id": "1bbebe07",
   "metadata": {
    "id": "1bbebe07"
   },
   "source": [
    "### Normalize the data\n",
    "### It is important to scale features before training a neural network. Normalization is a common way of doing this scaling: subtract the mean and divide by the standard deviation of each feature.\n",
    "\n",
    "### The mean and standard deviation should only be computed using the training data so that the models have no access to the values in the validation and test sets.\n",
    "\n",
    "### It's also arguable that the model shouldn't have access to future values in the training set when training, and that this normalization should be done using moving averages. That's not the focus of this tutorial, and the validation and test sets ensure that you get (somewhat) honest metrics. So, in the interest of simplicity this tutorial uses a simple average."
   ]
  },
  {
   "cell_type": "code",
   "execution_count": null,
   "id": "46797dfa",
   "metadata": {
    "id": "46797dfa"
   },
   "outputs": [],
   "source": [
    "train_mean = train_df.mean()\n",
    "train_std = train_df.std()\n",
    "\n",
    "train_df = (train_df - train_mean) / train_std\n",
    "val_df = (val_df - train_mean) / train_std\n",
    "test_df = (test_df - train_mean) / train_std"
   ]
  },
  {
   "cell_type": "markdown",
   "id": "5ca5a9d7",
   "metadata": {
    "id": "5ca5a9d7"
   },
   "source": [
    "### Now, peek at the distribution of the features. Some features do have long tails, but there are no obvious errors like the -9999 wind velocity value. "
   ]
  },
  {
   "cell_type": "code",
   "execution_count": null,
   "id": "c906bee0",
   "metadata": {
    "id": "c906bee0",
    "outputId": "82c084cf-3489-4a78-9142-f0e1a2f20e4f"
   },
   "outputs": [],
   "source": [
    "df_std = (df - train_mean) / train_std\n",
    "df_std = df_std.melt(var_name='Column', value_name='Normalized')\n",
    "plt.figure(figsize=(12, 6))\n",
    "ax = sns.violinplot(x='Column', y='Normalized', data=df_std)\n",
    "_ = ax.set_xticklabels(df.keys(), rotation=90)"
   ]
  },
  {
   "cell_type": "markdown",
   "id": "ced0f2c7",
   "metadata": {
    "id": "ced0f2c7"
   },
   "source": [
    "## 4. Data Windowing\n",
    "### The models in this tutorial will make a set of predictions based on a window of consecutive samples from the data.\n",
    "\n",
    "### The main features of the input windows are:\n",
    "\n",
    "#### The width (number of time steps) of the input and label windows.\n",
    "#### The time offset between them.\n",
    "#### Which features are used as inputs, labels, or both.\n",
    "\n",
    "### This tutorial builds a variety of models (including Linear, DNN, CNN and RNN models), and uses them for both:\n",
    "\n",
    "#### Single-output, and multi-output predictions.\n",
    "#### Single-time-step and multi-time-step predictions.\n",
    "### This section focuses on implementing the data windowing so that it can be reused for all of those models."
   ]
  },
  {
   "cell_type": "markdown",
   "id": "481f49f5",
   "metadata": {
    "id": "481f49f5"
   },
   "source": [
    "### Depending on the task and type of model you may want to generate a variety of data windows. Here are some examples:\n",
    "\n",
    "#### 1. For example, to make a single prediction 24 hours into the future, given 24 hours of history, you might define a window like this:\n",
    "![2023-03-30-tf_tut_ts-1.png](attachment:2023-03-30-tf_tut_ts-1.png)\n",
    "\n",
    "#### One prediction 24 hours into the future."
   ]
  },
  {
   "cell_type": "markdown",
   "id": "3047ba03",
   "metadata": {
    "id": "3047ba03"
   },
   "source": [
    "#### 2. A model that makes a prediction one hour into the future, given six hours of history, would need a window like this:\n",
    "![2023-03-30-tf_tut_ts-2.png](attachment:2023-03-30-tf_tut_ts-2.png)\n",
    "\n",
    "#### One prediction one hour into the future.\n",
    "\n",
    "### The rest of this section defines a WindowGenerator class. This class can:\n",
    "\n",
    "#### 1. Handle the indexes and offsets as shown in the diagrams above.\n",
    "#### 2. Split windows of features into (features, labels) pairs.\n",
    "#### 3. Plot the content of the resulting windows.\n",
    "#### 4. Efficiently generate batches of these windows from the training, evaluation, and test data, using tf.data.Datasets."
   ]
  },
  {
   "cell_type": "markdown",
   "id": "98078f67",
   "metadata": {
    "id": "98078f67"
   },
   "source": [
    "## i. Indexes and offsets\n",
    "### Start by creating the WindowGenerator class. The __init__ method includes all the necessary logic for the input and label indices.\n",
    "\n",
    "### It also takes the training, evaluation, and test DataFrames as input. These will be converted to tf.data.Datasets of windows later."
   ]
  },
  {
   "cell_type": "code",
   "execution_count": null,
   "id": "1cdfa13c",
   "metadata": {
    "id": "1cdfa13c"
   },
   "outputs": [],
   "source": [
    "class WindowGenerator():\n",
    "  def __init__(self, input_width, label_width, shift,\n",
    "               train_df=train_df, val_df=val_df, test_df=test_df,\n",
    "               label_columns=None):\n",
    "    # Store the raw data.\n",
    "    self.train_df = train_df\n",
    "    self.val_df = val_df\n",
    "    self.test_df = test_df\n",
    "\n",
    "    # Work out the label column indices.\n",
    "    self.label_columns = label_columns\n",
    "    if label_columns is not None:\n",
    "      self.label_columns_indices = {name: i for i, name in\n",
    "                                    enumerate(label_columns)}\n",
    "    self.column_indices = {name: i for i, name in\n",
    "                           enumerate(train_df.columns)}\n",
    "\n",
    "    # Work out the window parameters.\n",
    "    self.input_width = input_width\n",
    "    self.label_width = label_width\n",
    "    self.shift = shift\n",
    "\n",
    "    self.total_window_size = input_width + shift\n",
    "\n",
    "    self.input_slice = slice(0, input_width)\n",
    "    self.input_indices = np.arange(self.total_window_size)[self.input_slice]\n",
    "\n",
    "    self.label_start = self.total_window_size - self.label_width\n",
    "    self.labels_slice = slice(self.label_start, None)\n",
    "    self.label_indices = np.arange(self.total_window_size)[self.labels_slice]\n",
    "\n",
    "  def __repr__(self):\n",
    "    return '\\n'.join([\n",
    "        f'Total window size: {self.total_window_size}',\n",
    "        f'Input indices: {self.input_indices}',\n",
    "        f'Label indices: {self.label_indices}',\n",
    "        f'Label column name(s): {self.label_columns}'])"
   ]
  },
  {
   "cell_type": "markdown",
   "id": "3961f676",
   "metadata": {
    "id": "3961f676"
   },
   "source": [
    "## Here is code to create the 2 windows shown in the diagrams at the start of this section:"
   ]
  },
  {
   "cell_type": "code",
   "execution_count": null,
   "id": "049c73d5",
   "metadata": {
    "id": "049c73d5",
    "outputId": "deabc635-a7dc-4d78-fd02-50b8a967a10b"
   },
   "outputs": [],
   "source": [
    "w1 = WindowGenerator(input_width=24, label_width=1, shift=24,\n",
    "                     label_columns=['T (degC)'])\n",
    "w1"
   ]
  },
  {
   "cell_type": "code",
   "execution_count": null,
   "id": "df6fdfc9",
   "metadata": {
    "id": "df6fdfc9",
    "outputId": "54711a9d-a6ff-46ec-b51b-b54df40bd7b7"
   },
   "outputs": [],
   "source": [
    "w2 = WindowGenerator(input_width=6, label_width=1, shift=1,\n",
    "                     label_columns=['T (degC)'])\n",
    "w2"
   ]
  },
  {
   "cell_type": "markdown",
   "id": "036060aa",
   "metadata": {
    "id": "036060aa"
   },
   "source": [
    "## ii. Split\n",
    "### Given a list of consecutive inputs, the split_window method will convert them to a window of inputs and a window of labels.\n",
    "\n",
    "### The example w2 you defined earlier will be split like this"
   ]
  },
  {
   "cell_type": "markdown",
   "id": "8b7cedea",
   "metadata": {
    "id": "8b7cedea"
   },
   "source": [
    "![2023-03-30--tf_tut_ts-3.png](attachment:2023-03-30--tf_tut_ts-3.png)"
   ]
  },
  {
   "cell_type": "markdown",
   "id": "fdeb632a",
   "metadata": {
    "id": "fdeb632a"
   },
   "source": [
    "### This diagram doesn't show the features axis of the data, but this split_window function also handles the label_columns so it can be used for both the single output and multi-output examples."
   ]
  },
  {
   "cell_type": "code",
   "execution_count": null,
   "id": "4d391feb",
   "metadata": {
    "id": "4d391feb"
   },
   "outputs": [],
   "source": [
    "def split_window(self, features):\n",
    "  inputs = features[:, self.input_slice, :]\n",
    "  labels = features[:, self.labels_slice, :]\n",
    "  if self.label_columns is not None:\n",
    "    labels = tf.stack(\n",
    "        [labels[:, :, self.column_indices[name]] for name in self.label_columns],\n",
    "        axis=-1)\n",
    "\n",
    "  # Slicing doesn't preserve static shape information, so set the shapes\n",
    "  # manually. This way the `tf.data.Datasets` are easier to inspect.\n",
    "  inputs.set_shape([None, self.input_width, None])\n",
    "  labels.set_shape([None, self.label_width, None])\n",
    "\n",
    "  return inputs, labels\n",
    "\n",
    "WindowGenerator.split_window = split_window"
   ]
  },
  {
   "cell_type": "markdown",
   "id": "2776775e",
   "metadata": {
    "id": "2776775e"
   },
   "source": [
    "### Try it out:"
   ]
  },
  {
   "cell_type": "code",
   "execution_count": null,
   "id": "1e246cfa",
   "metadata": {
    "id": "1e246cfa",
    "outputId": "f39bcaec-29cf-4fdc-908f-8ca919d4960b"
   },
   "outputs": [],
   "source": [
    "# Stack three slices, the length of the total window.\n",
    "example_window = tf.stack([np.array(train_df[:w2.total_window_size]),\n",
    "                           np.array(train_df[100:100+w2.total_window_size]),\n",
    "                           np.array(train_df[200:200+w2.total_window_size])])\n",
    "\n",
    "example_inputs, example_labels = w2.split_window(example_window)\n",
    "\n",
    "print('All shapes are: (batch, time, features)')\n",
    "print(f'Window shape: {example_window.shape}')\n",
    "print(f'Inputs shape: {example_inputs.shape}')\n",
    "print(f'Labels shape: {example_labels.shape}')"
   ]
  },
  {
   "cell_type": "markdown",
   "id": "43182301",
   "metadata": {
    "id": "43182301"
   },
   "source": [
    "### Typically, data in TensorFlow is packed into arrays where the outermost index is across examples (the \"batch\" dimension). The middle indices are the \"time\" or \"space\" (width, height) dimension(s). The innermost indices are the features.\n",
    "\n",
    "### The code above took a batch of three 7-time step windows with 19 features at each time step. It splits them into a batch of 6-time step 19-feature inputs, and a 1-time step 1-feature label. The label only has one feature because the WindowGenerator was initialized with label_columns=['T (degC)']. Initially, this tutorial will build models that predict single output labels."
   ]
  },
  {
   "cell_type": "markdown",
   "id": "1d101053",
   "metadata": {
    "id": "1d101053"
   },
   "source": [
    "## iii. Plot\n",
    "## Here is a plot method that allows a simple visualization of the split window:"
   ]
  },
  {
   "cell_type": "code",
   "execution_count": null,
   "id": "46e1e54f",
   "metadata": {
    "id": "46e1e54f"
   },
   "outputs": [],
   "source": [
    "w2.example = example_inputs, example_labels"
   ]
  },
  {
   "cell_type": "code",
   "execution_count": null,
   "id": "a43fb2f9",
   "metadata": {
    "id": "a43fb2f9"
   },
   "outputs": [],
   "source": [
    "def plot(self, model=None, plot_col='T (degC)', max_subplots=3):\n",
    "  inputs, labels = self.example\n",
    "  plt.figure(figsize=(12, 8))\n",
    "  plot_col_index = self.column_indices[plot_col]\n",
    "  max_n = min(max_subplots, len(inputs))\n",
    "  for n in range(max_n):\n",
    "    plt.subplot(max_n, 1, n+1)\n",
    "    plt.ylabel(f'{plot_col} [normed]')\n",
    "    plt.plot(self.input_indices, inputs[n, :, plot_col_index],\n",
    "             label='Inputs', marker='.', zorder=-10)\n",
    "\n",
    "    if self.label_columns:\n",
    "      label_col_index = self.label_columns_indices.get(plot_col, None)\n",
    "    else:\n",
    "      label_col_index = plot_col_index\n",
    "\n",
    "    if label_col_index is None:\n",
    "      continue\n",
    "\n",
    "    plt.scatter(self.label_indices, labels[n, :, label_col_index],\n",
    "                edgecolors='k', label='Labels', c='#2ca02c', s=64)\n",
    "    if model is not None:\n",
    "      predictions = model(inputs)\n",
    "      plt.scatter(self.label_indices, predictions[n, :, label_col_index],\n",
    "                  marker='X', edgecolors='k', label='Predictions',\n",
    "                  c='#ff7f0e', s=64)\n",
    "\n",
    "    if n == 0:\n",
    "      plt.legend()\n",
    "\n",
    "  plt.xlabel('Time [h]')\n",
    "\n",
    "WindowGenerator.plot = plot"
   ]
  },
  {
   "cell_type": "markdown",
   "id": "bf31041c",
   "metadata": {
    "id": "bf31041c"
   },
   "source": [
    "### This plot aligns inputs, labels, and (later) predictions based on the time that the item refers to:"
   ]
  },
  {
   "cell_type": "code",
   "execution_count": null,
   "id": "71913dd0",
   "metadata": {
    "id": "71913dd0",
    "outputId": "ea577622-0228-4a33-8232-1062da4e84e9"
   },
   "outputs": [],
   "source": [
    "w2.plot()"
   ]
  },
  {
   "cell_type": "markdown",
   "id": "853b62e5",
   "metadata": {
    "id": "853b62e5"
   },
   "source": [
    "### You can plot the other columns, but the example window w2 configuration only has labels for the T (degC) column."
   ]
  },
  {
   "cell_type": "code",
   "execution_count": null,
   "id": "3e685caf",
   "metadata": {
    "id": "3e685caf",
    "outputId": "3c10b066-78f5-4ac6-83e9-6fb05429f329"
   },
   "outputs": [],
   "source": [
    "w2.plot(plot_col='p (mbar)')"
   ]
  },
  {
   "cell_type": "markdown",
   "id": "da856abf",
   "metadata": {
    "id": "da856abf"
   },
   "source": [
    "## iv. Create tf.data.datasets\n",
    "### Finally, this make_dataset method will take a time series DataFrame and convert it to a tf.data.Dataset of (input_window, label_window) pairs using the tf.keras.utils.timeseries_dataset_from_array function:"
   ]
  },
  {
   "cell_type": "code",
   "execution_count": null,
   "id": "c33b3317",
   "metadata": {
    "id": "c33b3317"
   },
   "outputs": [],
   "source": [
    "def make_dataset(self, data):\n",
    "  data = np.array(data, dtype=np.float32)\n",
    "  ds = tf.keras.utils.timeseries_dataset_from_array(\n",
    "      data=data,\n",
    "      targets=None,\n",
    "      sequence_length=self.total_window_size,\n",
    "      sequence_stride=1,\n",
    "      shuffle=True,\n",
    "      batch_size=32,)\n",
    "\n",
    "  ds = ds.map(self.split_window)\n",
    "\n",
    "  return ds\n",
    "\n",
    "WindowGenerator.make_dataset = make_dataset"
   ]
  },
  {
   "cell_type": "markdown",
   "id": "4d253c2f",
   "metadata": {
    "id": "4d253c2f"
   },
   "source": [
    "## Add properties for accessing them as tf.data.Datasets using the make_dataset method you defined earlier. Also, add a standard example batch for easy access and plotting:"
   ]
  },
  {
   "cell_type": "code",
   "execution_count": null,
   "id": "177c35f7",
   "metadata": {
    "id": "177c35f7"
   },
   "outputs": [],
   "source": [
    "@property\n",
    "def train(self):\n",
    "  return self.make_dataset(self.train_df)\n",
    "\n",
    "@property\n",
    "def val(self):\n",
    "  return self.make_dataset(self.val_df)\n",
    "\n",
    "@property\n",
    "def test(self):\n",
    "  return self.make_dataset(self.test_df)\n",
    "\n",
    "@property\n",
    "def example(self):\n",
    "  \"\"\"Get and cache an example batch of `inputs, labels` for plotting.\"\"\"\n",
    "  result = getattr(self, '_example', None)\n",
    "  if result is None:\n",
    "    # No example batch was found, so get one from the `.train` dataset\n",
    "    result = next(iter(self.train))\n",
    "    # And cache it for next time\n",
    "    self._example = result\n",
    "  return result\n",
    "\n",
    "WindowGenerator.train = train\n",
    "WindowGenerator.val = val\n",
    "WindowGenerator.test = test\n",
    "WindowGenerator.example = example"
   ]
  },
  {
   "cell_type": "markdown",
   "id": "ab2d1c12",
   "metadata": {
    "id": "ab2d1c12"
   },
   "source": [
    "### Now, the WindowGenerator object gives you access to the tf.data.Dataset objects, so you can easily iterate over the data.\n",
    "\n",
    "### The Dataset.element_spec property tells you the structure, data types, and shapes of the dataset elements."
   ]
  },
  {
   "cell_type": "code",
   "execution_count": null,
   "id": "592ea08f",
   "metadata": {
    "id": "592ea08f",
    "outputId": "57f99356-5006-417b-fdfa-51b61872f108"
   },
   "outputs": [],
   "source": [
    "# Each element is an (inputs, label) pair.\n",
    "w2.train.element_spec"
   ]
  },
  {
   "cell_type": "markdown",
   "id": "aa590401",
   "metadata": {
    "id": "aa590401"
   },
   "source": [
    "### Iterating over a Dataset yields concrete batches:"
   ]
  },
  {
   "cell_type": "code",
   "execution_count": null,
   "id": "738ffe7d",
   "metadata": {
    "id": "738ffe7d",
    "outputId": "66b04773-b363-4930-8122-e3db44ca266a"
   },
   "outputs": [],
   "source": [
    "for example_inputs, example_labels in w2.train.take(1):\n",
    "  print(f'Inputs shape (batch, time, features): {example_inputs.shape}')\n",
    "  print(f'Labels shape (batch, time, features): {example_labels.shape}')"
   ]
  },
  {
   "cell_type": "markdown",
   "id": "c512ac19",
   "metadata": {
    "id": "c512ac19"
   },
   "source": [
    "# 5. Single Step Models\n",
    "### The  simplest model you can build on this sort of data is one that predicts a single feature's value—1 time step (one hour) into the future based only on the current conditions.\n",
    "\n",
    "### So, start by building models to predict the T (degC) value one hour into the future."
   ]
  },
  {
   "cell_type": "markdown",
   "id": "c52a2367",
   "metadata": {
    "id": "c52a2367"
   },
   "source": [
    "![2023-04-12-tf_tut_ts-4-1step.png](attachment:2023-04-12-tf_tut_ts-4-1step.png)"
   ]
  },
  {
   "cell_type": "markdown",
   "id": "e8a55683",
   "metadata": {
    "id": "e8a55683"
   },
   "source": [
    "### Configure a WindowGenerator object to produce these single-step (input, label) pairs:"
   ]
  },
  {
   "cell_type": "code",
   "execution_count": null,
   "id": "3c98b305",
   "metadata": {
    "id": "3c98b305",
    "outputId": "1c895b14-833b-4855-dd6b-9f34f4372a95"
   },
   "outputs": [],
   "source": [
    "single_step_window = WindowGenerator(\n",
    "    input_width=1, label_width=1, shift=1,\n",
    "    label_columns=['T (degC)'])\n",
    "single_step_window"
   ]
  },
  {
   "cell_type": "markdown",
   "id": "a0788f71",
   "metadata": {
    "id": "a0788f71"
   },
   "source": [
    "### The window object creates tf.data.Datasets from the training, validation, and test sets, allowing you to easily iterate over batches of data."
   ]
  },
  {
   "cell_type": "code",
   "execution_count": null,
   "id": "8b5bb4c9",
   "metadata": {
    "id": "8b5bb4c9",
    "outputId": "28772c8b-86dc-4f30-95c0-d3876ab6497a"
   },
   "outputs": [],
   "source": [
    "for example_inputs, example_labels in single_step_window.train.take(1):\n",
    "  print(f'Inputs shape (batch, time, features): {example_inputs.shape}')\n",
    "  print(f'Labels shape (batch, time, features): {example_labels.shape}')"
   ]
  },
  {
   "cell_type": "markdown",
   "id": "a3553a58",
   "metadata": {
    "id": "a3553a58"
   },
   "source": [
    "#### Inputs shape (batch, time, features): (32, 1, 19)\n",
    "#### Labels shape (batch, time, features): (32, 1, 1)"
   ]
  },
  {
   "cell_type": "markdown",
   "id": "b54eacce",
   "metadata": {
    "id": "b54eacce"
   },
   "source": [
    "## Baseline\n",
    "### Before building a trainable model it would be good to have a performance baseline as a point for comparison with the later more complicated models.\n",
    "### This first task is to predict temperature one hour into the future, given the current value of all features. The current values include the current temperature.\n",
    "\n",
    "### So, start with a model that just returns the current temperature as the prediction, predicting \"No change\". This is a reasonable baseline since temperature changes slowly. Of course, this baseline will work less well if you make a prediction further in the future."
   ]
  },
  {
   "cell_type": "markdown",
   "id": "e801fed9",
   "metadata": {
    "id": "e801fed9"
   },
   "source": [
    "![2023-04-12-tf_tut_ts-4-baseline-1.png](attachment:2023-04-12-tf_tut_ts-4-baseline-1.png)"
   ]
  },
  {
   "cell_type": "code",
   "execution_count": null,
   "id": "258cb5de",
   "metadata": {
    "id": "258cb5de"
   },
   "outputs": [],
   "source": [
    "class Baseline(tf.keras.Model):\n",
    "  def __init__(self, label_index=None):\n",
    "    super().__init__()\n",
    "    self.label_index = label_index\n",
    "\n",
    "  def call(self, inputs):\n",
    "    if self.label_index is None:\n",
    "      return inputs\n",
    "    result = inputs[:, :, self.label_index]\n",
    "    return result[:, :, tf.newaxis]"
   ]
  },
  {
   "cell_type": "markdown",
   "id": "4ba14e52",
   "metadata": {
    "id": "4ba14e52"
   },
   "source": [
    "#### Instantiate and evaluate this model:"
   ]
  },
  {
   "cell_type": "code",
   "execution_count": null,
   "id": "208c5722",
   "metadata": {
    "id": "208c5722",
    "outputId": "d7fd1513-8d81-44f7-c808-9790016a2071"
   },
   "outputs": [],
   "source": [
    "baseline = Baseline(label_index=column_indices['T (degC)'])\n",
    "\n",
    "baseline.compile(loss=tf.keras.losses.MeanSquaredError(),\n",
    "                 metrics=[tf.keras.metrics.MeanAbsoluteError()])\n",
    "\n",
    "val_performance = {}\n",
    "performance = {}\n",
    "val_performance['Baseline'] = baseline.evaluate(single_step_window.val)\n",
    "performance['Baseline'] = baseline.evaluate(single_step_window.test, verbose=0)"
   ]
  },
  {
   "cell_type": "markdown",
   "id": "c2e7acbe",
   "metadata": {
    "id": "c2e7acbe"
   },
   "source": [
    "#### That printed some performance metrics, but those don't give you a feeling for how well the model is doing.\n",
    "\n",
    "#### The WindowGenerator has a plot method, but the plots won't be very interesting with only a single sample.\n",
    "\n",
    "#### So, create a wider WindowGenerator that generates windows 24 hours of consecutive inputs and labels at a time. The new wide_window variable doesn't change the way the model operates. The model still makes predictions one hour into the future based on a single input time step. Here, the time axis acts like the batch axis: each prediction is made independently with no interaction between time steps:"
   ]
  },
  {
   "cell_type": "code",
   "execution_count": null,
   "id": "bf0f89b1",
   "metadata": {
    "id": "bf0f89b1",
    "outputId": "67a7c3d8-1825-4d31-b18b-40049e1cd55f"
   },
   "outputs": [],
   "source": [
    "wide_window = WindowGenerator(\n",
    "    input_width=24, label_width=24, shift=1,\n",
    "    label_columns=['T (degC)'])\n",
    "\n",
    "wide_window"
   ]
  },
  {
   "cell_type": "markdown",
   "id": "ad2fc218",
   "metadata": {
    "id": "ad2fc218"
   },
   "source": [
    "---"
   ]
  },
  {
   "cell_type": "markdown",
   "id": "145536bd",
   "metadata": {
    "id": "145536bd"
   },
   "source": [
    "### This expanded window can be passed directly to the same baseline model without any code changes. This is possible because the inputs and labels have the same number of time steps, and the baseline just forwards the input to the output:"
   ]
  },
  {
   "cell_type": "markdown",
   "id": "aa189e3b",
   "metadata": {
    "id": "aa189e3b"
   },
   "source": [
    "![2023-04-12-tf_tut_ts-4-exp_window.png](attachment:2023-04-12-tf_tut_ts-4-exp_window.png)"
   ]
  },
  {
   "cell_type": "code",
   "execution_count": null,
   "id": "97233fc1",
   "metadata": {
    "id": "97233fc1",
    "outputId": "d72180fd-17e8-4215-a21b-9d6143933e4f"
   },
   "outputs": [],
   "source": [
    "print('Input shape:', wide_window.example[0].shape)\n",
    "print('Output shape:', baseline(wide_window.example[0]).shape)"
   ]
  },
  {
   "cell_type": "markdown",
   "id": "38fc8447",
   "metadata": {
    "id": "38fc8447"
   },
   "source": [
    "#### By plotting the baseline model's predictions, notice that it is simply the labels shifted right by one hour:"
   ]
  },
  {
   "cell_type": "code",
   "execution_count": null,
   "id": "3f7de9c7",
   "metadata": {
    "id": "3f7de9c7",
    "outputId": "bfa05d17-e6be-4726-a35d-a39ecbf548ed"
   },
   "outputs": [],
   "source": [
    "wide_window.plot(baseline)"
   ]
  },
  {
   "cell_type": "markdown",
   "id": "4f93fb3d",
   "metadata": {
    "id": "4f93fb3d"
   },
   "source": [
    "### In the above plots of three examples the single step model is run over the course of 24 hours. This deserves some explanation:\n",
    "\n",
    " - The blue Inputs line shows the input temperature at each time step. The model receives all features, this plot only shows the temperature.\n",
    " - The green Labels dots show the target prediction value. These dots are shown at the prediction time, not the input time. That is why the range of labels is shifted 1 step relative to the inputs.\n",
    " - The orange Predictions crosses are the model's prediction's for each output time step. If the model were predicting perfectly the predictions would land directly on the Labels."
   ]
  },
  {
   "cell_type": "markdown",
   "id": "d709ae99",
   "metadata": {
    "id": "d709ae99"
   },
   "source": [
    "## 5.1 Linear model\n",
    "### The simplest trainable model you can apply to this task is to insert linear transformation between the input and output. In this case the output from a time step only depends on that step:"
   ]
  },
  {
   "cell_type": "markdown",
   "id": "031a7a80",
   "metadata": {
    "id": "031a7a80"
   },
   "source": [
    "![2023-04-12-tf_tut_ts-4-lin_mod.png](attachment:2023-04-12-tf_tut_ts-4-lin_mod.png)"
   ]
  },
  {
   "cell_type": "markdown",
   "id": "e690833e",
   "metadata": {
    "id": "e690833e"
   },
   "source": [
    "### A tf.keras.layers.Dense layer with no activation set is a linear model. The layer only transforms the last axis of the data from (batch, time, inputs) to (batch, time, units); it is applied independently to every item across the batch and time axes."
   ]
  },
  {
   "cell_type": "code",
   "execution_count": null,
   "id": "08223e8c",
   "metadata": {
    "id": "08223e8c"
   },
   "outputs": [],
   "source": [
    "linear = tf.keras.Sequential([\n",
    "    tf.keras.layers.Dense(units=1)\n",
    "])"
   ]
  },
  {
   "cell_type": "code",
   "execution_count": null,
   "id": "3fb25ca0",
   "metadata": {
    "id": "3fb25ca0",
    "outputId": "80d7f960-d105-4de6-9b39-849754b86591"
   },
   "outputs": [],
   "source": [
    "print('Input shape:', single_step_window.example[0].shape)\n",
    "print('Output shape:', linear(single_step_window.example[0]).shape)"
   ]
  },
  {
   "cell_type": "markdown",
   "id": "0aed4640",
   "metadata": {
    "id": "0aed4640"
   },
   "source": [
    "### This tutorial trains many models, so package the training procedure into a function:"
   ]
  },
  {
   "cell_type": "code",
   "execution_count": null,
   "id": "51031b61",
   "metadata": {
    "id": "51031b61"
   },
   "outputs": [],
   "source": [
    "MAX_EPOCHS = 20\n",
    "\n",
    "def compile_and_fit(model, window, patience=2):\n",
    "  early_stopping = tf.keras.callbacks.EarlyStopping(monitor='val_loss',\n",
    "                                                    patience=patience,\n",
    "                                                    mode='min')\n",
    "\n",
    "  model.compile(loss=tf.keras.losses.MeanSquaredError(),\n",
    "                optimizer=tf.keras.optimizers.Adam(),\n",
    "                metrics=[tf.keras.metrics.MeanAbsoluteError()])\n",
    "\n",
    "  history = model.fit(window.train, epochs=MAX_EPOCHS,\n",
    "                      validation_data=window.val,\n",
    "                      callbacks=[early_stopping])\n",
    "  return history"
   ]
  },
  {
   "cell_type": "markdown",
   "id": "0241adf7",
   "metadata": {
    "id": "0241adf7"
   },
   "source": [
    "#### Train the model and evaluate its performance:"
   ]
  },
  {
   "cell_type": "code",
   "execution_count": null,
   "id": "1db56dc3",
   "metadata": {
    "id": "1db56dc3",
    "outputId": "01faebde-51d4-4ee7-ebd6-5579690da5e7"
   },
   "outputs": [],
   "source": [
    "history = compile_and_fit(linear, single_step_window)\n",
    "\n",
    "val_performance['Linear'] = linear.evaluate(single_step_window.val)\n",
    "performance['Linear'] = linear.evaluate(single_step_window.test, verbose=0)"
   ]
  },
  {
   "cell_type": "markdown",
   "id": "fd231086",
   "metadata": {
    "id": "fd231086"
   },
   "source": [
    "### Like the baseline model, the linear model can be called on batches of wide windows. Used this way the model makes a set of independent predictions on consecutive time steps. The time axis acts like another batch axis. There are no interactions between the predictions at each time step."
   ]
  },
  {
   "cell_type": "markdown",
   "id": "b0869542",
   "metadata": {
    "id": "b0869542"
   },
   "source": [
    "![2023-04-12-tf_tut_ts-4-mult_indep_consec.png](attachment:2023-04-12-tf_tut_ts-4-mult_indep_consec.png)"
   ]
  },
  {
   "cell_type": "code",
   "execution_count": null,
   "id": "20ded17e",
   "metadata": {
    "id": "20ded17e",
    "outputId": "d07c359b-d08a-447b-dd39-0c80013594cb"
   },
   "outputs": [],
   "source": [
    "print('Input shape:', wide_window.example[0].shape)\n",
    "print('Output shape:', baseline(wide_window.example[0]).shape)"
   ]
  },
  {
   "cell_type": "markdown",
   "id": "58a1bc2c",
   "metadata": {
    "id": "58a1bc2c"
   },
   "source": [
    "### Here is the plot of its example predictions on the wide_window, note how in many cases the prediction is clearly better than just returning the input temperature, but in a few cases it's worse"
   ]
  },
  {
   "cell_type": "code",
   "execution_count": null,
   "id": "228b7bf6",
   "metadata": {
    "id": "228b7bf6",
    "outputId": "3b2b0b13-ef6b-4ec1-e56d-4b8e79dd8bc4"
   },
   "outputs": [],
   "source": [
    "wide_window.plot(linear)"
   ]
  },
  {
   "cell_type": "markdown",
   "id": "761ffda3",
   "metadata": {
    "id": "761ffda3"
   },
   "source": [
    "### One advantage to linear models is that they're relatively simple to interpret. You can pull out the layer's weights and visualize the weight assigned to each input:"
   ]
  },
  {
   "cell_type": "code",
   "execution_count": null,
   "id": "64ea1bf5",
   "metadata": {
    "id": "64ea1bf5",
    "outputId": "2775c903-9458-45a1-cf65-56162f3493e7"
   },
   "outputs": [],
   "source": [
    "plt.bar(x = range(len(train_df.columns)),\n",
    "        height=linear.layers[0].kernel[:,0].numpy())\n",
    "axis = plt.gca()\n",
    "axis.set_xticks(range(len(train_df.columns)))\n",
    "_ = axis.set_xticklabels(train_df.columns, rotation=90)"
   ]
  },
  {
   "cell_type": "markdown",
   "id": "626968d9",
   "metadata": {
    "id": "626968d9"
   },
   "source": [
    "### Sometimes the model doesn't even place the most weight on the input T (degC). This is one of the risks of random initialization."
   ]
  },
  {
   "cell_type": "markdown",
   "id": "dd2399c4",
   "metadata": {
    "id": "dd2399c4"
   },
   "source": [
    "## 5.2 Dense"
   ]
  },
  {
   "cell_type": "markdown",
   "id": "91c6c3bc",
   "metadata": {
    "id": "91c6c3bc"
   },
   "source": [
    "### Before applying models that actually operate on multiple time-steps, it's worth checking the performance of deeper, more powerful, single input step models.\n",
    "\n",
    "### Here's a model similar to the linear model, except it stacks several a few Dense layers between the input and the output:"
   ]
  },
  {
   "cell_type": "code",
   "execution_count": null,
   "id": "3ae66b44",
   "metadata": {
    "id": "3ae66b44",
    "outputId": "1ccd99cd-7a0e-46ed-8c03-4aee405ee220"
   },
   "outputs": [],
   "source": [
    "dense = tf.keras.Sequential([\n",
    "    tf.keras.layers.Dense(units=64, activation='relu'),\n",
    "    tf.keras.layers.Dense(units=64, activation='relu'),\n",
    "    tf.keras.layers.Dense(units=1)\n",
    "])\n",
    "\n",
    "history = compile_and_fit(dense, single_step_window)\n",
    "\n",
    "val_performance['Dense'] = dense.evaluate(single_step_window.val)\n",
    "performance['Dense'] = dense.evaluate(single_step_window.test, verbose=0)"
   ]
  },
  {
   "cell_type": "markdown",
   "id": "f6049876",
   "metadata": {
    "id": "f6049876"
   },
   "source": [
    "## 5.3 Multi-step Dense\n",
    "### A single-time-step model has no context for the current values of its inputs. It can't see how the input features are changing over time. To address this issue the model needs access to multiple time steps when making predictions:\n"
   ]
  },
  {
   "cell_type": "markdown",
   "id": "c2b6d6ca",
   "metadata": {
    "id": "c2b6d6ca"
   },
   "source": [
    "![2023-04-12-tf_tut_ts-4-mult_now_dep.png](attachment:2023-04-12-tf_tut_ts-4-mult_now_dep.png)"
   ]
  },
  {
   "cell_type": "markdown",
   "id": "626142cc",
   "metadata": {
    "id": "626142cc"
   },
   "source": [
    "#### The baseline, linear and dense models handled each time step independently. Here the model will take multiple time steps as input to produce a single output.\n",
    "\n",
    "#### Create a WindowGenerator that will produce batches of three-hour inputs and one-hour labels:\n",
    "\n",
    "#### Note that the Window's shift parameter is relative to the end of the two windows."
   ]
  },
  {
   "cell_type": "code",
   "execution_count": null,
   "id": "31f6c99c",
   "metadata": {
    "id": "31f6c99c",
    "outputId": "84b42c0d-dbf2-4606-c61d-5c0288732bed"
   },
   "outputs": [],
   "source": [
    "CONV_WIDTH = 3\n",
    "conv_window = WindowGenerator(\n",
    "    input_width=CONV_WIDTH,\n",
    "    label_width=1,\n",
    "    shift=1,\n",
    "    label_columns=['T (degC)'])\n",
    "\n",
    "conv_window"
   ]
  },
  {
   "cell_type": "code",
   "execution_count": null,
   "id": "6510ff96",
   "metadata": {
    "id": "6510ff96",
    "outputId": "b4f669f6-9d4b-4cf3-c6e9-c2aa09dea2ba"
   },
   "outputs": [],
   "source": [
    "conv_window.plot()\n",
    "plt.title(\"Given 3 hours of inputs, predict 1 hour into the future.\")"
   ]
  },
  {
   "cell_type": "markdown",
   "id": "ffa06e25",
   "metadata": {
    "id": "ffa06e25"
   },
   "source": [
    "### You could train a dense model on a multiple-input-step window by adding a tf.keras.layers.Flatten as the first layer of the model:"
   ]
  },
  {
   "cell_type": "code",
   "execution_count": null,
   "id": "68542ab1",
   "metadata": {
    "id": "68542ab1"
   },
   "outputs": [],
   "source": [
    "multi_step_dense = tf.keras.Sequential([\n",
    "    # Shape: (time, features) => (time*features)\n",
    "    tf.keras.layers.Flatten(),\n",
    "    tf.keras.layers.Dense(units=32, activation='relu'),\n",
    "    tf.keras.layers.Dense(units=32, activation='relu'),\n",
    "    tf.keras.layers.Dense(units=1),\n",
    "    # Add back the time dimension.\n",
    "    # Shape: (outputs) => (1, outputs)\n",
    "    tf.keras.layers.Reshape([1, -1]),\n",
    "])"
   ]
  },
  {
   "cell_type": "code",
   "execution_count": null,
   "id": "53071565",
   "metadata": {
    "id": "53071565",
    "outputId": "c95f5ddc-3b76-4868-ccab-4c9cfe1ea3cb"
   },
   "outputs": [],
   "source": [
    "print('Input shape:', conv_window.example[0].shape)\n",
    "print('Output shape:', multi_step_dense(conv_window.example[0]).shape)"
   ]
  },
  {
   "cell_type": "code",
   "execution_count": null,
   "id": "18da1c33",
   "metadata": {
    "id": "18da1c33",
    "outputId": "b54f032a-a649-4bc7-cfbf-6d8b386ec2bf"
   },
   "outputs": [],
   "source": [
    "history = compile_and_fit(multi_step_dense, conv_window)\n",
    "\n",
    "IPython.display.clear_output()\n",
    "val_performance['Multi step dense'] = multi_step_dense.evaluate(conv_window.val)\n",
    "performance['Multi step dense'] = multi_step_dense.evaluate(conv_window.test, verbose=0)"
   ]
  },
  {
   "cell_type": "markdown",
   "id": "ee6e7450",
   "metadata": {
    "id": "ee6e7450"
   },
   "source": [
    "---"
   ]
  },
  {
   "cell_type": "code",
   "execution_count": null,
   "id": "b5c58467",
   "metadata": {
    "id": "b5c58467",
    "outputId": "7fc7b14b-db98-49c1-9aac-66109aa1d830"
   },
   "outputs": [],
   "source": [
    "conv_window.plot(multi_step_dense)"
   ]
  },
  {
   "cell_type": "markdown",
   "id": "26151f5c",
   "metadata": {
    "id": "26151f5c"
   },
   "source": [
    "### The main down-side of this approach is that the resulting model can only be executed on input windows of exactly this shape."
   ]
  },
  {
   "cell_type": "code",
   "execution_count": null,
   "id": "faca4c9c",
   "metadata": {
    "id": "faca4c9c",
    "outputId": "2a9423ce-ec21-4106-dc81-dee67c755063"
   },
   "outputs": [],
   "source": [
    "print('Input shape:', wide_window.example[0].shape)\n",
    "try:\n",
    "  print('Output shape:', multi_step_dense(wide_window.example[0]).shape)\n",
    "except Exception as e:\n",
    "  print(f'\\n{type(e).__name__}:{e}')"
   ]
  },
  {
   "cell_type": "markdown",
   "id": "ebbb156d",
   "metadata": {
    "id": "ebbb156d"
   },
   "source": [
    "### The convolutional models in the next section fix this problem.\n",
    "---"
   ]
  },
  {
   "cell_type": "markdown",
   "id": "166a682a",
   "metadata": {
    "id": "166a682a"
   },
   "source": [
    "## 5.4 Convolution neural network\n",
    "### A convolution layer (tf.keras.layers.Conv1D) also takes multiple time steps as input to each prediction.\n",
    "\n",
    "### Below is the same model as multi_step_dense, re-written with a convolution.\n",
    "\n",
    "#### Note the changes:\n",
    "\n",
    "#### The tf.keras.layers.Flatten and the first tf.keras.layers.Dense are replaced by a tf.keras.layers.Conv1D.\n",
    "The tf.keras.layers.Reshape is no longer necessary since the convolution keeps the time axis in its output."
   ]
  },
  {
   "cell_type": "code",
   "execution_count": null,
   "id": "76efe619",
   "metadata": {
    "id": "76efe619"
   },
   "outputs": [],
   "source": [
    "conv_model = tf.keras.Sequential([\n",
    "    tf.keras.layers.Conv1D(filters=32,\n",
    "                           kernel_size=(CONV_WIDTH,),\n",
    "                           activation='relu'),\n",
    "    tf.keras.layers.Dense(units=32, activation='relu'),\n",
    "    tf.keras.layers.Dense(units=1),\n",
    "])"
   ]
  },
  {
   "cell_type": "markdown",
   "id": "1690626b",
   "metadata": {
    "id": "1690626b"
   },
   "source": [
    "#### Run it on an example batch to check that the model produces outputs with the expected shape:"
   ]
  },
  {
   "cell_type": "code",
   "execution_count": null,
   "id": "e4d5b085",
   "metadata": {
    "id": "e4d5b085",
    "outputId": "f3596046-0f59-4ac0-9bca-e312123181e7"
   },
   "outputs": [],
   "source": [
    "print(\"Conv model on `conv_window`\")\n",
    "print('Input shape:', conv_window.example[0].shape)\n",
    "print('Output shape:', conv_model(conv_window.example[0]).shape)"
   ]
  },
  {
   "cell_type": "markdown",
   "id": "5e41e738",
   "metadata": {
    "id": "5e41e738"
   },
   "source": [
    "#### Train and evaluate it on the conv_window and it should give performance similar to the multi_step_dense model."
   ]
  },
  {
   "cell_type": "code",
   "execution_count": null,
   "id": "961bd05f",
   "metadata": {
    "id": "961bd05f"
   },
   "outputs": [],
   "source": [
    "# Brendon: Inserted this to clear memory for the convolution model following\n",
    "#  Did not work immediately after insert. Restarted FF. Still not working\n",
    "#  I may have to split this section off to a new notebook to avoid memory issues,\n",
    "#   update the version of CUDNN in a new environment or install cuda-tools\n",
    "\n",
    "## Clears tf memory\n",
    "tf.keras.backend.clear_session()"
   ]
  },
  {
   "cell_type": "code",
   "execution_count": null,
   "id": "f6403c4b",
   "metadata": {
    "id": "f6403c4b",
    "outputId": "b6f5bf9c-b840-4ef8-ebe5-614086b9bc97",
    "scrolled": false
   },
   "outputs": [],
   "source": [
    "history = compile_and_fit(conv_model, conv_window)\n",
    "\n",
    "IPython.display.clear_output()\n",
    "val_performance['Conv'] = conv_model.evaluate(conv_window.val)\n",
    "performance['Conv'] = conv_model.evaluate(conv_window.test, verbose=0)"
   ]
  },
  {
   "cell_type": "markdown",
   "id": "39927d3e",
   "metadata": {
    "id": "39927d3e"
   },
   "source": [
    "### The difference between this conv_model and the multi_step_dense model is that the conv_model can be run on inputs of any length. The convolutional layer is applied to a sliding window of inputs:"
   ]
  },
  {
   "cell_type": "markdown",
   "id": "5e3ceb58",
   "metadata": {
    "id": "5e3ceb58"
   },
   "source": [
    "![2023-04-13-tf_tut_ts-4-conv_slide.png](attachment:2023-04-13-tf_tut_ts-4-conv_slide.png)"
   ]
  },
  {
   "cell_type": "markdown",
   "id": "cf74eb50",
   "metadata": {
    "id": "cf74eb50"
   },
   "source": [
    "#### If you run it on wider input, it produces wider output:"
   ]
  },
  {
   "cell_type": "code",
   "execution_count": null,
   "id": "378643c2",
   "metadata": {
    "id": "378643c2",
    "outputId": "108d7c01-3012-480a-af0f-0010f54d9e66"
   },
   "outputs": [],
   "source": [
    "print(\"Wide window\")\n",
    "print('Input shape:', wide_window.example[0].shape)\n",
    "print('Labels shape:', wide_window.example[1].shape)\n",
    "print('Output shape:', conv_model(wide_window.example[0]).shape)"
   ]
  },
  {
   "cell_type": "markdown",
   "id": "0be7e8b7",
   "metadata": {
    "id": "0be7e8b7"
   },
   "source": [
    "##### Note that the output is shorter than the input. To make training or plotting work, you need the labels, and prediction to have the same length. So build a WindowGenerator to produce wide windows with a few extra input time steps so the label and prediction lengths match:"
   ]
  },
  {
   "cell_type": "code",
   "execution_count": null,
   "id": "1feb486b",
   "metadata": {
    "id": "1feb486b",
    "outputId": "dc8271e3-f070-4458-d7a7-77f9633ed233"
   },
   "outputs": [],
   "source": [
    "LABEL_WIDTH = 24\n",
    "INPUT_WIDTH = LABEL_WIDTH + (CONV_WIDTH - 1)\n",
    "wide_conv_window = WindowGenerator(\n",
    "    input_width=INPUT_WIDTH,\n",
    "    label_width=LABEL_WIDTH,\n",
    "    shift=1,\n",
    "    label_columns=['T (degC)'])\n",
    "\n",
    "wide_conv_window"
   ]
  },
  {
   "cell_type": "code",
   "execution_count": null,
   "id": "227f6cf1",
   "metadata": {
    "id": "227f6cf1",
    "outputId": "33d29e16-fd30-4417-9d46-66bf8cbe33ee"
   },
   "outputs": [],
   "source": [
    "print(\"Wide conv window\")\n",
    "print('Input shape:', wide_conv_window.example[0].shape)\n",
    "print('Labels shape:', wide_conv_window.example[1].shape)\n",
    "print('Output shape:', conv_model(wide_conv_window.example[0]).shape)"
   ]
  },
  {
   "cell_type": "markdown",
   "id": "48baf12d",
   "metadata": {
    "id": "48baf12d"
   },
   "source": [
    "#### Now, you can plot the model's predictions on a wider window. Note the 3 input time steps before the first prediction. Every prediction here is based on the 3 preceding time steps:"
   ]
  },
  {
   "cell_type": "code",
   "execution_count": null,
   "id": "ddee7c44",
   "metadata": {
    "id": "ddee7c44",
    "outputId": "b177415a-55e6-4d7c-cfef-ab712f36a7b1"
   },
   "outputs": [],
   "source": [
    "wide_conv_window.plot(conv_model)"
   ]
  },
  {
   "cell_type": "markdown",
   "id": "b9959896",
   "metadata": {
    "id": "b9959896"
   },
   "source": [
    "## 5.5 Recurrent neural network\n",
    "### A Recurrent Neural Network (RNN) is a type of neural network well-suited to time series data. RNNs process a time series step-by-step, maintaining an internal state from time-step to time-step.\n",
    "\n",
    "### You can learn more in the Text generation with an RNN tutorial and the Recurrent Neural Networks (RNN) with Keras guide.\n",
    "\n",
    "### In this tutorial, you will use an RNN layer called Long Short-Term Memory (tf.keras.layers.LSTM).\n",
    "\n",
    "#### An important constructor argument for all Keras RNN layers, such as tf.keras.layers.LSTM, is the return_sequences argument. This setting can configure the layer in one of two ways:\n",
    "\n",
    "### 1. If False, the default, the layer only returns the output of the final time step, giving the model time to warm up its internal state before making a single prediction:\n"
   ]
  },
  {
   "cell_type": "markdown",
   "id": "6513385d",
   "metadata": {
    "id": "6513385d"
   },
   "source": [
    "![2023-04-13-tf_tut_ts-4-retseq-f.png](attachment:2023-04-13-tf_tut_ts-4-retseq-f.png)"
   ]
  },
  {
   "cell_type": "markdown",
   "id": "6d70b4ff",
   "metadata": {
    "id": "6d70b4ff"
   },
   "source": [
    "### 2. If True, the layer returns an output for each input. This is useful for:\n",
    " - Stacking RNN layers.\n",
    " - Training a model on multiple time steps simultaneously."
   ]
  },
  {
   "cell_type": "markdown",
   "id": "e1d5d18a",
   "metadata": {
    "id": "e1d5d18a"
   },
   "source": [
    "![2023-04-13-tf_tut_ts-4-retseq-t.png](attachment:2023-04-13-tf_tut_ts-4-retseq-t.png)"
   ]
  },
  {
   "cell_type": "code",
   "execution_count": null,
   "id": "659cdfe4",
   "metadata": {
    "id": "659cdfe4"
   },
   "outputs": [],
   "source": [
    "lstm_model = tf.keras.models.Sequential([\n",
    "    # Shape [batch, time, features] => [batch, time, lstm_units]\n",
    "    tf.keras.layers.LSTM(32, return_sequences=True),\n",
    "    # Shape => [batch, time, features]\n",
    "    tf.keras.layers.Dense(units=1)\n",
    "])"
   ]
  },
  {
   "cell_type": "markdown",
   "id": "5cc7e1cd",
   "metadata": {
    "id": "5cc7e1cd"
   },
   "source": [
    "##\n",
    "## With return_sequences=True, the model can be trained on 24 hours of data at a time.\n",
    "\n",
    "<p style=\"text-align: left;\"> $$\\star$$ Note:This will give a pessimistic view of the model's performance. On the first time step, the model has no access to previous steps and, therefore, can't do any better than the simple linear and dense models shown earlier.</p>"
   ]
  },
  {
   "cell_type": "code",
   "execution_count": null,
   "id": "48c2820a",
   "metadata": {
    "id": "48c2820a",
    "outputId": "66031394-e356-4e1c-a127-863545dca9d9"
   },
   "outputs": [],
   "source": [
    "print('Input shape:', wide_window.example[0].shape)\n",
    "print('Output shape:', lstm_model(wide_window.example[0]).shape)"
   ]
  },
  {
   "cell_type": "code",
   "execution_count": null,
   "id": "52eadd5a",
   "metadata": {
    "id": "52eadd5a",
    "outputId": "57810354-1154-4068-f583-0a2705f571b8"
   },
   "outputs": [],
   "source": [
    "history = compile_and_fit(lstm_model, wide_window)\n",
    "\n",
    "IPython.display.clear_output()\n",
    "val_performance['LSTM'] = lstm_model.evaluate(wide_window.val)\n",
    "performance['LSTM'] = lstm_model.evaluate(wide_window.test, verbose=0)"
   ]
  },
  {
   "cell_type": "code",
   "execution_count": null,
   "id": "51ce1ca4",
   "metadata": {
    "id": "51ce1ca4",
    "outputId": "1626de7c-4890-4725-9191-eefc03d9c9eb"
   },
   "outputs": [],
   "source": [
    "wide_window.plot(lstm_model)"
   ]
  },
  {
   "cell_type": "markdown",
   "id": "a9e69c44",
   "metadata": {
    "id": "a9e69c44"
   },
   "source": [
    "## Performance\n",
    "### With this dataset typically each of the models does slightly better than the one before it:\n",
    "\n",
    "\n"
   ]
  },
  {
   "cell_type": "code",
   "execution_count": null,
   "id": "88ae32de",
   "metadata": {
    "id": "88ae32de",
    "outputId": "d2a21c74-f6cb-446a-e4ac-09229b27b527"
   },
   "outputs": [],
   "source": [
    "x = np.arange(len(performance))\n",
    "width = 0.3\n",
    "metric_name = 'mean_absolute_error'\n",
    "metric_index = lstm_model.metrics_names.index('mean_absolute_error')\n",
    "val_mae = [v[metric_index] for v in val_performance.values()]\n",
    "test_mae = [v[metric_index] for v in performance.values()]\n",
    "\n",
    "plt.ylabel('mean_absolute_error [T (degC), normalized]')\n",
    "plt.bar(x - 0.17, val_mae, width, label='Validation')\n",
    "plt.bar(x + 0.17, test_mae, width, label='Test')\n",
    "plt.xticks(ticks=x, labels=performance.keys(),\n",
    "           rotation=45)\n",
    "_ = plt.legend()"
   ]
  },
  {
   "cell_type": "code",
   "execution_count": null,
   "id": "a2b08fda",
   "metadata": {
    "id": "a2b08fda",
    "outputId": "9e766605-8bc1-42e8-ece5-2dae80a860f4"
   },
   "outputs": [],
   "source": [
    "for name, value in performance.items():\n",
    "  print(f'{name:12s}: {value[1]:0.4f}')"
   ]
  },
  {
   "cell_type": "markdown",
   "id": "bddc2364",
   "metadata": {
    "id": "bddc2364"
   },
   "source": [
    "# 6. Multi-output models\n",
    "### The models so far all predicted a single output feature, T (degC), for a single time step.\n",
    "\n",
    "### All of these models can be converted to predict multiple features just by changing the number of units in the output layer and adjusting the training windows to include all features in the labels (example_labels):"
   ]
  },
  {
   "cell_type": "code",
   "execution_count": null,
   "id": "2f30cfd6",
   "metadata": {
    "id": "2f30cfd6",
    "outputId": "9ae0bab3-d567-4cb5-b8b7-cdb18724dc64"
   },
   "outputs": [],
   "source": [
    "single_step_window = WindowGenerator(\n",
    "    # `WindowGenerator` returns all features as labels if you \n",
    "    # don't set the `label_columns` argument.\n",
    "    input_width=1, label_width=1, shift=1)\n",
    "\n",
    "wide_window = WindowGenerator(\n",
    "    input_width=24, label_width=24, shift=1)\n",
    "\n",
    "for example_inputs, example_labels in wide_window.train.take(1):\n",
    "  print(f'Inputs shape (batch, time, features): {example_inputs.shape}')\n",
    "  print(f'Labels shape (batch, time, features): {example_labels.shape}')"
   ]
  },
  {
   "cell_type": "markdown",
   "id": "d828318d",
   "metadata": {
    "id": "d828318d"
   },
   "source": [
    "### Note above that the features axis of the labels now has the same depth as the inputs, instead of 1.\n",
    "\n",
    "## Baseline\n",
    "### The same baseline model (Baseline) can be used here, but this time repeating all features instead of selecting a specific label_index:"
   ]
  },
  {
   "cell_type": "code",
   "execution_count": null,
   "id": "61960f29",
   "metadata": {
    "id": "61960f29"
   },
   "outputs": [],
   "source": [
    "baseline = Baseline()\n",
    "baseline.compile(loss=tf.keras.losses.MeanSquaredError(),\n",
    "                 metrics=[tf.keras.metrics.MeanAbsoluteError()])"
   ]
  },
  {
   "cell_type": "code",
   "execution_count": null,
   "id": "2fb298e7",
   "metadata": {
    "id": "2fb298e7",
    "outputId": "104c6aed-d531-471e-9e68-7dcb08683cec"
   },
   "outputs": [],
   "source": [
    "val_performance = {}\n",
    "performance = {}\n",
    "val_performance['Baseline'] = baseline.evaluate(wide_window.val)\n",
    "performance['Baseline'] = baseline.evaluate(wide_window.test, verbose=0)"
   ]
  },
  {
   "cell_type": "markdown",
   "id": "f1c977d4",
   "metadata": {
    "id": "f1c977d4"
   },
   "source": [
    "## 6.1 Dense"
   ]
  },
  {
   "cell_type": "code",
   "execution_count": null,
   "id": "aafd2549",
   "metadata": {
    "id": "aafd2549"
   },
   "outputs": [],
   "source": [
    "dense = tf.keras.Sequential([\n",
    "    tf.keras.layers.Dense(units=64, activation='relu'),\n",
    "    tf.keras.layers.Dense(units=64, activation='relu'),\n",
    "    tf.keras.layers.Dense(units=num_features)\n",
    "])"
   ]
  },
  {
   "cell_type": "code",
   "execution_count": null,
   "id": "0b81a82d",
   "metadata": {
    "id": "0b81a82d",
    "outputId": "2d223448-516b-4f03-bec5-e90dfa49fe06"
   },
   "outputs": [],
   "source": [
    "history = compile_and_fit(dense, single_step_window)\n",
    "\n",
    "IPython.display.clear_output()\n",
    "val_performance['Dense'] = dense.evaluate(single_step_window.val)\n",
    "performance['Dense'] = dense.evaluate(single_step_window.test, verbose=0)"
   ]
  },
  {
   "cell_type": "markdown",
   "id": "11f716a9",
   "metadata": {
    "id": "11f716a9"
   },
   "source": [
    "## 6.2 RNN"
   ]
  },
  {
   "cell_type": "code",
   "execution_count": null,
   "id": "5c716663",
   "metadata": {
    "id": "5c716663",
    "outputId": "a8325bae-0b3a-4f19-9e27-e03553f7be37"
   },
   "outputs": [],
   "source": [
    "%%time\n",
    "wide_window = WindowGenerator(\n",
    "    input_width=24, label_width=24, shift=1)\n",
    "\n",
    "lstm_model = tf.keras.models.Sequential([\n",
    "    # Shape [batch, time, features] => [batch, time, lstm_units]\n",
    "    tf.keras.layers.LSTM(32, return_sequences=True),\n",
    "    # Shape => [batch, time, features]\n",
    "    tf.keras.layers.Dense(units=num_features)\n",
    "])\n",
    "\n",
    "history = compile_and_fit(lstm_model, wide_window)\n",
    "\n",
    "IPython.display.clear_output()\n",
    "val_performance['LSTM'] = lstm_model.evaluate( wide_window.val)\n",
    "performance['LSTM'] = lstm_model.evaluate( wide_window.test, verbose=0)\n",
    "\n",
    "print()"
   ]
  },
  {
   "cell_type": "markdown",
   "id": "5cd5c5a7",
   "metadata": {
    "id": "5cd5c5a7"
   },
   "source": [
    "# 7 Advanced: Residual Connections\n",
    "### The Baseline model from earlier took advantage of the fact that the sequence doesn't change drastically from time step to time step. Every model trained in this tutorial so far was randomly initialized, and then had to learn that the output is a a small change from the previous time step.\n",
    "\n",
    "### While you can get around this issue with careful initialization, it's simpler to build this into the model structure.\n",
    "\n",
    "### It's common in time series analysis to build models that instead of predicting the next value, predict how the value will change in the next time step. Similarly, residual networks—or ResNets—in deep learning refer to architectures where each layer adds to the model's accumulating result.\n",
    "\n",
    "### That is how you take advantage of the knowledge that the change should be small."
   ]
  },
  {
   "cell_type": "markdown",
   "id": "59a99a20",
   "metadata": {
    "id": "59a99a20"
   },
   "source": [
    "![2023-04-20-tf_tut_ts5_1-ResidualSmallChange.png](attachment:2023-04-20-tf_tut_ts5_1-ResidualSmallChange.png)"
   ]
  },
  {
   "cell_type": "markdown",
   "id": "ae166186",
   "metadata": {
    "id": "ae166186"
   },
   "source": [
    "### Essentially, this initializes the model to match the Baseline. For this task it helps models converge faster, with slightly better performance.\n",
    "\n",
    "### This approach can be used in conjunction with any model discussed in this tutorial.\n",
    "\n",
    "### Here, it is being applied to the LSTM model, note the use of the tf.initializers.zeros to ensure that the initial predicted changes are small, and don't overpower the residual connection. There are no symmetry-breaking concerns for the gradients here, since the zeros are only used on the last layer."
   ]
  },
  {
   "cell_type": "code",
   "execution_count": null,
   "id": "f44ca44a",
   "metadata": {
    "id": "f44ca44a"
   },
   "outputs": [],
   "source": [
    "class ResidualWrapper(tf.keras.Model):\n",
    "  def __init__(self, model):\n",
    "    super().__init__()\n",
    "    self.model = model\n",
    "\n",
    "  def call(self, inputs, *args, **kwargs):\n",
    "    delta = self.model(inputs, *args, **kwargs)\n",
    "\n",
    "    # The prediction for each time step is the input\n",
    "    # from the previous time step plus the delta\n",
    "    # calculated by the model.\n",
    "    return inputs + delta"
   ]
  },
  {
   "cell_type": "code",
   "execution_count": null,
   "id": "7357b963",
   "metadata": {
    "id": "7357b963",
    "outputId": "5d46f698-5336-4432-f542-df35420491ca"
   },
   "outputs": [],
   "source": [
    "%%time\n",
    "residual_lstm = ResidualWrapper(\n",
    "    tf.keras.Sequential([\n",
    "    tf.keras.layers.LSTM(32, return_sequences=True),\n",
    "    tf.keras.layers.Dense(\n",
    "        num_features,\n",
    "        # The predicted deltas should start small.\n",
    "        # Therefore, initialize the output layer with zeros.\n",
    "        kernel_initializer=tf.initializers.zeros())\n",
    "]))\n",
    "\n",
    "history = compile_and_fit(residual_lstm, wide_window)\n",
    "\n",
    "IPython.display.clear_output()\n",
    "val_performance['Residual LSTM'] = residual_lstm.evaluate(wide_window.val)\n",
    "performance['Residual LSTM'] = residual_lstm.evaluate(wide_window.test, verbose=0)\n",
    "print()"
   ]
  },
  {
   "cell_type": "markdown",
   "id": "460b011f",
   "metadata": {
    "id": "460b011f"
   },
   "source": [
    "## Performance\n",
    "### Here is the overall performance for these multi-output models."
   ]
  },
  {
   "cell_type": "code",
   "execution_count": null,
   "id": "708fed8b",
   "metadata": {
    "id": "708fed8b",
    "outputId": "6ba35e9b-765f-49d7-dccc-9d1af5c06fab"
   },
   "outputs": [],
   "source": [
    "x = np.arange(len(performance))\n",
    "width = 0.3\n",
    "\n",
    "metric_name = 'mean_absolute_error'\n",
    "metric_index = lstm_model.metrics_names.index('mean_absolute_error')\n",
    "val_mae = [v[metric_index] for v in val_performance.values()]\n",
    "test_mae = [v[metric_index] for v in performance.values()]\n",
    "\n",
    "plt.bar(x - 0.17, val_mae, width, label='Validation')\n",
    "plt.bar(x + 0.17, test_mae, width, label='Test')\n",
    "plt.xticks(ticks=x, labels=performance.keys(),\n",
    "           rotation=45)\n",
    "plt.ylabel('MAE (average over all outputs)')\n",
    "_ = plt.legend()"
   ]
  },
  {
   "cell_type": "code",
   "execution_count": null,
   "id": "4f66e9bc",
   "metadata": {
    "id": "4f66e9bc",
    "outputId": "d8e36c1f-5226-404d-d442-219052e38f4a"
   },
   "outputs": [],
   "source": [
    "for name, value in performance.items():\n",
    "  print(f'{name:15s}: {value[1]:0.4f}')"
   ]
  },
  {
   "cell_type": "markdown",
   "id": "464befd5",
   "metadata": {
    "id": "464befd5"
   },
   "source": [
    "### The above performances are averaged across all model outputs."
   ]
  },
  {
   "cell_type": "markdown",
   "id": "7f16671c",
   "metadata": {
    "id": "7f16671c"
   },
   "source": [
    "# 8. Multi-step models"
   ]
  },
  {
   "cell_type": "markdown",
   "id": "bb701115",
   "metadata": {
    "id": "bb701115"
   },
   "source": [
    "### Both the single-output and multiple-output models in the previous sections made single time step predictions, one hour into the future.\n",
    "\n",
    "### This section looks at how to expand these models to make multiple time step predictions.\n",
    "\n",
    "### In a multi-step prediction, the model needs to learn to predict a range of future values. Thus, unlike a single step model, where only a single future point is predicted, a multi-step model predicts a sequence of the future values.\n",
    "\n",
    "### There are two rough approaches to this:\n",
    "\n",
    " -1- Single shot predictions where the entire time series is predicted at once.\n",
    " -2- Autoregressive predictions where the model only makes single step predictions and its output is fed back as its input.\n",
    "### In this section all the models will predict all the features across all output time steps.\n",
    "\n",
    "### For the multi-step model, the training data again consists of hourly samples. However, here, the models will learn to predict 24 hours into the future, given 24 hours of the past.\n",
    "\n",
    "### Here is a Window object that generates these slices from the dataset:"
   ]
  },
  {
   "cell_type": "code",
   "execution_count": null,
   "id": "b2886acb",
   "metadata": {
    "id": "b2886acb",
    "outputId": "c6bede18-1638-4fe1-9f0e-a28914417928"
   },
   "outputs": [],
   "source": [
    "OUT_STEPS = 24\n",
    "multi_window = WindowGenerator(input_width=24,\n",
    "                               label_width=OUT_STEPS,\n",
    "                               shift=OUT_STEPS)\n",
    "\n",
    "multi_window.plot()\n",
    "multi_window"
   ]
  },
  {
   "cell_type": "markdown",
   "id": "6eefc77f",
   "metadata": {
    "id": "6eefc77f"
   },
   "source": [
    "## 8.1 Baselines"
   ]
  },
  {
   "cell_type": "markdown",
   "id": "1e447144",
   "metadata": {
    "id": "1e447144"
   },
   "source": [
    "### A simple baseline for this task is to repeat the last input time step for the required number of output time steps:"
   ]
  },
  {
   "cell_type": "markdown",
   "id": "eb2cc6de",
   "metadata": {
    "id": "eb2cc6de"
   },
   "source": [
    "![2023-04-20-tf_tut_ts5_2_BaseMultiStep.png](attachment:2023-04-20-tf_tut_ts5_2_BaseMultiStep.png)"
   ]
  },
  {
   "cell_type": "code",
   "execution_count": null,
   "id": "e24a73ad",
   "metadata": {
    "id": "e24a73ad",
    "outputId": "635952a0-4897-45f1-9aa5-c278536cd3a7"
   },
   "outputs": [],
   "source": [
    "class MultiStepLastBaseline(tf.keras.Model):\n",
    "  def call(self, inputs):\n",
    "    return tf.tile(inputs[:, -1:, :], [1, OUT_STEPS, 1])\n",
    "\n",
    "last_baseline = MultiStepLastBaseline()\n",
    "last_baseline.compile(loss=tf.keras.losses.MeanSquaredError(),\n",
    "                      metrics=[tf.keras.metrics.MeanAbsoluteError()])\n",
    "\n",
    "multi_val_performance = {}\n",
    "multi_performance = {}\n",
    "\n",
    "multi_val_performance['Last'] = last_baseline.evaluate(multi_window.val)\n",
    "multi_performance['Last'] = last_baseline.evaluate(multi_window.test, verbose=0)\n",
    "multi_window.plot(last_baseline)"
   ]
  },
  {
   "cell_type": "markdown",
   "id": "20a2746d",
   "metadata": {
    "id": "20a2746d"
   },
   "source": [
    "### Since this task is to predict 24 hours into the future, given 24 hours of the past, another simple approach is to repeat the previous day, assuming tomorrow will be similar:\n",
    "\n"
   ]
  },
  {
   "cell_type": "markdown",
   "id": "bbbeeb4f",
   "metadata": {
    "id": "bbbeeb4f"
   },
   "source": [
    "![2023-04-20-tf_tut_ts5_3_BaseRepPrev.png](attachment:2023-04-20-tf_tut_ts5_3_BaseRepPrev.png)"
   ]
  },
  {
   "cell_type": "code",
   "execution_count": null,
   "id": "059034fa",
   "metadata": {
    "id": "059034fa",
    "outputId": "8d8998ca-b3e0-42da-e3b3-f50a311a625f"
   },
   "outputs": [],
   "source": [
    "class RepeatBaseline(tf.keras.Model):\n",
    "  def call(self, inputs):\n",
    "    return inputs\n",
    "\n",
    "repeat_baseline = RepeatBaseline()\n",
    "repeat_baseline.compile(loss=tf.keras.losses.MeanSquaredError(),\n",
    "                        metrics=[tf.keras.metrics.MeanAbsoluteError()])\n",
    "\n",
    "multi_val_performance['Repeat'] = repeat_baseline.evaluate(multi_window.val)\n",
    "multi_performance['Repeat'] = repeat_baseline.evaluate(multi_window.test, verbose=0)\n",
    "multi_window.plot(repeat_baseline)"
   ]
  },
  {
   "cell_type": "markdown",
   "id": "93da71f9",
   "metadata": {
    "id": "93da71f9"
   },
   "source": [
    "## 8.2 Single-shot models\n",
    "\n",
    "### One high-level approach to this problem is to use a \"single-shot\" model, where the model makes the entire sequence prediction in a single step.\n",
    "### THIS IS THE SOLUTION TO THE CAT5 PROBLEM:\n",
    "### This can be implemented efficiently as a tf.keras.layers.Dense with OUT_STEPS*features output units. The model just needs to reshape that output to the required (OUTPUT_STEPS, features).\n",
    "### Linear\n",
    "### A simple linear model based on the last input time step does better than either baseline, but is underpowered. The model needs to predict OUTPUT_STEPS time steps, from a single input time step with a linear projection. It can only capture a low-dimensional slice of the behavior, likely based mainly on the time of day and time of year."
   ]
  },
  {
   "cell_type": "markdown",
   "id": "692a0c2f",
   "metadata": {
    "id": "692a0c2f"
   },
   "source": [
    "![2023-04-20-tf_tut_ts5_4_Lin.png](attachment:2023-04-20-tf_tut_ts5_4_Lin.png)"
   ]
  },
  {
   "cell_type": "code",
   "execution_count": null,
   "id": "71ae95ea",
   "metadata": {
    "id": "71ae95ea",
    "outputId": "62f4b5ab-06fa-4b7e-f097-8a5d4f0be981"
   },
   "outputs": [],
   "source": [
    "multi_linear_model = tf.keras.Sequential([\n",
    "    # Take the last time-step.\n",
    "    # Shape [batch, time, features] => [batch, 1, features]\n",
    "    tf.keras.layers.Lambda(lambda x: x[:, -1:, :]),\n",
    "    # Shape => [batch, 1, out_steps*features]\n",
    "    tf.keras.layers.Dense(OUT_STEPS*num_features,\n",
    "                          kernel_initializer=tf.initializers.zeros()),\n",
    "    # Shape => [batch, out_steps, features]\n",
    "    tf.keras.layers.Reshape([OUT_STEPS, num_features])\n",
    "])\n",
    "\n",
    "history = compile_and_fit(multi_linear_model, multi_window)\n",
    "\n",
    "IPython.display.clear_output()\n",
    "multi_val_performance['Linear'] = multi_linear_model.evaluate(multi_window.val)\n",
    "multi_performance['Linear'] = multi_linear_model.evaluate(multi_window.test, verbose=0)\n",
    "multi_window.plot(multi_linear_model)"
   ]
  },
  {
   "cell_type": "markdown",
   "id": "96ca156b",
   "metadata": {
    "id": "96ca156b"
   },
   "source": [
    "## DNN\n",
    "### Adding a tf.keras.layers.Dense between the input and output gives the linear model more power, but is still only based on a single input time step."
   ]
  },
  {
   "cell_type": "code",
   "execution_count": null,
   "id": "daa047a0",
   "metadata": {
    "id": "daa047a0",
    "outputId": "6ef5dbaf-5236-4cb0-cbdd-8fc30e4329fb"
   },
   "outputs": [],
   "source": [
    "multi_dense_model = tf.keras.Sequential([\n",
    "    # Take the last time step.\n",
    "    # Shape [batch, time, features] => [batch, 1, features]\n",
    "    tf.keras.layers.Lambda(lambda x: x[:, -1:, :]),\n",
    "    # Shape => [batch, 1, dense_units]\n",
    "    tf.keras.layers.Dense(512, activation='relu'),\n",
    "    # Shape => [batch, out_steps*features]\n",
    "    tf.keras.layers.Dense(OUT_STEPS*num_features,\n",
    "                          kernel_initializer=tf.initializers.zeros()),\n",
    "    # Shape => [batch, out_steps, features]\n",
    "    tf.keras.layers.Reshape([OUT_STEPS, num_features])\n",
    "])\n",
    "\n",
    "history = compile_and_fit(multi_dense_model, multi_window)\n",
    "\n",
    "IPython.display.clear_output()\n",
    "multi_val_performance['Dense'] = multi_dense_model.evaluate(multi_window.val)\n",
    "multi_performance['Dense'] = multi_dense_model.evaluate(multi_window.test, verbose=0)\n",
    "multi_window.plot(multi_dense_model)"
   ]
  },
  {
   "cell_type": "markdown",
   "id": "99edce3e",
   "metadata": {
    "id": "99edce3e"
   },
   "source": [
    "## CNN\n",
    "### A convolutional model makes predictions based on a fixed-width history, which may lead to better performance than the dense model since it can see how things are changing over time:"
   ]
  },
  {
   "cell_type": "markdown",
   "id": "2fbfe041",
   "metadata": {
    "id": "2fbfe041"
   },
   "source": [
    "![2023-04-20-tf_tut_ts5_5_DNN.png](attachment:2023-04-20-tf_tut_ts5_5_DNN.png)"
   ]
  },
  {
   "cell_type": "code",
   "execution_count": null,
   "id": "0be75b14",
   "metadata": {
    "id": "0be75b14",
    "outputId": "a075080f-ce36-4b99-b685-2ec774f40d8e"
   },
   "outputs": [],
   "source": [
    "CONV_WIDTH = 3\n",
    "multi_conv_model = tf.keras.Sequential([\n",
    "    # Shape [batch, time, features] => [batch, CONV_WIDTH, features]\n",
    "    tf.keras.layers.Lambda(lambda x: x[:, -CONV_WIDTH:, :]),\n",
    "    # Shape => [batch, 1, conv_units]\n",
    "    tf.keras.layers.Conv1D(256, activation='relu', kernel_size=(CONV_WIDTH)),\n",
    "    # Shape => [batch, 1,  out_steps*features]\n",
    "    tf.keras.layers.Dense(OUT_STEPS*num_features,\n",
    "                          kernel_initializer=tf.initializers.zeros()),\n",
    "    # Shape => [batch, out_steps, features]\n",
    "    tf.keras.layers.Reshape([OUT_STEPS, num_features])\n",
    "])\n",
    "\n",
    "history = compile_and_fit(multi_conv_model, multi_window)\n",
    "\n",
    "IPython.display.clear_output()\n",
    "\n",
    "multi_val_performance['Conv'] = multi_conv_model.evaluate(multi_window.val)\n",
    "multi_performance['Conv'] = multi_conv_model.evaluate(multi_window.test, verbose=0)\n",
    "multi_window.plot(multi_conv_model)"
   ]
  },
  {
   "cell_type": "markdown",
   "id": "bfcbadde",
   "metadata": {
    "id": "bfcbadde"
   },
   "source": [
    "## RNN\n",
    "### A recurrent model can learn to use a long history of inputs, if it's relevant to the predictions the model is making. Here the model will accumulate internal state for 24 hours, before making a single prediction for the next 24 hours.\n",
    "\n",
    "### In this single-shot format, the LSTM only needs to produce an output at the last time step, so set return_sequences=False in tf.keras.layers.LSTM."
   ]
  },
  {
   "cell_type": "markdown",
   "id": "323cc4bd",
   "metadata": {
    "id": "323cc4bd"
   },
   "source": [
    "![2023-04-20-tf_tut_ts5_6_RNN.png](attachment:2023-04-20-tf_tut_ts5_6_RNN.png)"
   ]
  },
  {
   "cell_type": "code",
   "execution_count": null,
   "id": "9a501e85",
   "metadata": {
    "id": "9a501e85",
    "outputId": "6670e5c6-8dd7-48aa-8549-5e94f5a88d4f"
   },
   "outputs": [],
   "source": [
    "multi_lstm_model = tf.keras.Sequential([\n",
    "    # Shape [batch, time, features] => [batch, lstm_units].\n",
    "    # Adding more `lstm_units` just overfits more quickly.\n",
    "    tf.keras.layers.LSTM(32, return_sequences=False),\n",
    "    # Shape => [batch, out_steps*features].\n",
    "    tf.keras.layers.Dense(OUT_STEPS*num_features,\n",
    "                          kernel_initializer=tf.initializers.zeros()),\n",
    "    # Shape => [batch, out_steps, features].\n",
    "    tf.keras.layers.Reshape([OUT_STEPS, num_features])\n",
    "])\n",
    "\n",
    "history = compile_and_fit(multi_lstm_model, multi_window)\n",
    "\n",
    "IPython.display.clear_output()\n",
    "\n",
    "multi_val_performance['LSTM'] = multi_lstm_model.evaluate(multi_window.val)\n",
    "multi_performance['LSTM'] = multi_lstm_model.evaluate(multi_window.test, verbose=0)\n",
    "multi_window.plot(multi_lstm_model)"
   ]
  },
  {
   "cell_type": "markdown",
   "id": "85e593fe",
   "metadata": {
    "id": "85e593fe"
   },
   "source": [
    "## 9. Advanced: Autoregressive model\n",
    "### The above models all predict the entire output sequence in a single step.\n",
    "\n",
    "### In some cases it may be helpful for the model to decompose this prediction into individual time steps. Then, each model's output can be fed back into itself at each step and predictions can be made conditioned on the previous one, like in the classic Generating Sequences With Recurrent Neural Networks.\n",
    "\n",
    "### One clear advantage to this style of model is that it can be set up to produce output with a varying length.\n",
    "\n",
    "### You could take any of the single-step multi-output models trained in the first half of this tutorial and run in an autoregressive feedback loop, but here you'll focus on building a model that's been explicitly trained to do that."
   ]
  },
  {
   "cell_type": "markdown",
   "id": "994a73ea",
   "metadata": {
    "id": "994a73ea"
   },
   "source": [
    "![2023-04-20-tf_tut_ts6_1_Autoreg.png](attachment:2023-04-20-tf_tut_ts6_1_Autoreg.png)"
   ]
  },
  {
   "cell_type": "markdown",
   "id": "b79f4e37",
   "metadata": {
    "id": "b79f4e37"
   },
   "source": [
    "## 9.1 RNN\n",
    "### This tutorial only builds an autoregressive RNN model, but this pattern could be applied to any model that was designed to output a single time step.\n",
    "\n",
    "### The model will have the same basic form as the single-step LSTM models from earlier: a tf.keras.layers.LSTM layer followed by a tf.keras.layers.Dense layer that converts the LSTM layer's outputs to model predictions.\n",
    "\n",
    "### A tf.keras.layers.LSTM is a tf.keras.layers.LSTMCell wrapped in the higher level tf.keras.layers.RNN that manages the state and sequence results for you (Check out the Recurrent Neural Networks (RNN) with Keras guide for details).\n",
    "\n",
    "### In this case, the model has to manually manage the inputs for each step, so it uses tf.keras.layers.LSTMCell directly for the lower level, single time step interface."
   ]
  },
  {
   "cell_type": "code",
   "execution_count": null,
   "id": "24b877dc",
   "metadata": {
    "id": "24b877dc"
   },
   "outputs": [],
   "source": [
    "class FeedBack(tf.keras.Model):\n",
    "  def __init__(self, units, out_steps):\n",
    "    super().__init__()\n",
    "    self.out_steps = out_steps\n",
    "    self.units = units\n",
    "    self.lstm_cell = tf.keras.layers.LSTMCell(units)\n",
    "    # Also wrap the LSTMCell in an RNN to simplify the `warmup` method.\n",
    "    self.lstm_rnn = tf.keras.layers.RNN(self.lstm_cell, return_state=True)\n",
    "    self.dense = tf.keras.layers.Dense(num_features)"
   ]
  },
  {
   "cell_type": "code",
   "execution_count": null,
   "id": "b42cb78d",
   "metadata": {
    "id": "b42cb78d"
   },
   "outputs": [],
   "source": [
    "feedback_model = FeedBack(units=32, out_steps=OUT_STEPS)"
   ]
  },
  {
   "cell_type": "markdown",
   "id": "e99d9f2a",
   "metadata": {
    "id": "e99d9f2a"
   },
   "source": [
    "### The first method this model needs is a warmup method to initialize its internal state based on the inputs. Once trained, this state will capture the relevant parts of the input history. This is equivalent to the single-step LSTM model from earlier:"
   ]
  },
  {
   "cell_type": "code",
   "execution_count": null,
   "id": "d774814f",
   "metadata": {
    "id": "d774814f"
   },
   "outputs": [],
   "source": [
    "def warmup(self, inputs):\n",
    "  # inputs.shape => (batch, time, features)\n",
    "  # x.shape => (batch, lstm_units)\n",
    "  x, *state = self.lstm_rnn(inputs)\n",
    "\n",
    "  # predictions.shape => (batch, features)\n",
    "  prediction = self.dense(x)\n",
    "  return prediction, state\n",
    "\n",
    "FeedBack.warmup = warmup"
   ]
  },
  {
   "cell_type": "markdown",
   "id": "f7e85702",
   "metadata": {
    "id": "f7e85702"
   },
   "source": [
    "### This method returns a single time-step prediction and the internal state of the LSTM:"
   ]
  },
  {
   "cell_type": "code",
   "execution_count": null,
   "id": "cb3c6fa6",
   "metadata": {
    "id": "cb3c6fa6",
    "outputId": "b8dbec8f-09ed-4128-f18d-a51f23d959de"
   },
   "outputs": [],
   "source": [
    "prediction, state = feedback_model.warmup(multi_window.example[0])\n",
    "prediction.shape"
   ]
  },
  {
   "cell_type": "markdown",
   "id": "26acca14",
   "metadata": {
    "id": "26acca14"
   },
   "source": [
    "### With the RNN's state, and an initial prediction you can now continue iterating the model feeding the predictions at each step back as the input.\n",
    "\n",
    "### The simplest approach for collecting the output predictions is to use a Python list and a tf.stack after the loop."
   ]
  },
  {
   "cell_type": "markdown",
   "id": "bce6dd9a",
   "metadata": {
    "id": "bce6dd9a"
   },
   "source": [
    "<p style=\"text-align: left;\"> $$\\star$$Note: Stacking a Python list like this only works with eager-execution, using Model.compile(..., run_eagerly=True) for training, or with a fixed length output. For a dynamic output length, you would need to use a tf.TensorArray instead of a Python list, and tf.range instead of the Python range.</p>"
   ]
  },
  {
   "cell_type": "code",
   "execution_count": null,
   "id": "99a9c7de",
   "metadata": {
    "id": "99a9c7de"
   },
   "outputs": [],
   "source": [
    "def call(self, inputs, training=None):\n",
    "  # Use a TensorArray to capture dynamically unrolled outputs.\n",
    "  predictions = []\n",
    "  # Initialize the LSTM state.\n",
    "  prediction, state = self.warmup(inputs)\n",
    "\n",
    "  # Insert the first prediction.\n",
    "  predictions.append(prediction)\n",
    "\n",
    "  # Run the rest of the prediction steps.\n",
    "  for n in range(1, self.out_steps):\n",
    "    # Use the last prediction as input.\n",
    "    x = prediction\n",
    "    # Execute one lstm step.\n",
    "    x, state = self.lstm_cell(x, states=state,\n",
    "                              training=training)\n",
    "    # Convert the lstm output to a prediction.\n",
    "    prediction = self.dense(x)\n",
    "    # Add the prediction to the output.\n",
    "    predictions.append(prediction)\n",
    "\n",
    "  # predictions.shape => (time, batch, features)\n",
    "  predictions = tf.stack(predictions)\n",
    "  # predictions.shape => (batch, time, features)\n",
    "  predictions = tf.transpose(predictions, [1, 0, 2])\n",
    "  return predictions\n",
    "\n",
    "FeedBack.call = call"
   ]
  },
  {
   "cell_type": "markdown",
   "id": "885dceb9",
   "metadata": {
    "id": "885dceb9"
   },
   "source": [
    "### Test run this model on the example inputs:"
   ]
  },
  {
   "cell_type": "code",
   "execution_count": null,
   "id": "c3fc2067",
   "metadata": {
    "id": "c3fc2067",
    "outputId": "24257736-27a5-460b-a0c0-d2dc3a25a947"
   },
   "outputs": [],
   "source": [
    "print('Output shape (batch, time, features): ', feedback_model(multi_window.example[0]).shape)"
   ]
  },
  {
   "cell_type": "markdown",
   "id": "50d20b36",
   "metadata": {
    "id": "50d20b36"
   },
   "source": [
    "### Now, train the model:"
   ]
  },
  {
   "cell_type": "code",
   "execution_count": null,
   "id": "4d154eb5",
   "metadata": {
    "id": "4d154eb5",
    "outputId": "28794cd2-fffe-4295-c5e1-c6e8d70feddc"
   },
   "outputs": [],
   "source": [
    "history = compile_and_fit(feedback_model, multi_window)\n",
    "\n",
    "IPython.display.clear_output()\n",
    "\n",
    "multi_val_performance['AR LSTM'] = feedback_model.evaluate(multi_window.val)\n",
    "multi_performance['AR LSTM'] = feedback_model.evaluate(multi_window.test, verbose=0)\n",
    "multi_window.plot(feedback_model)"
   ]
  },
  {
   "cell_type": "markdown",
   "id": "1a2f3402",
   "metadata": {
    "id": "1a2f3402"
   },
   "source": [
    "## Performance\n",
    "### There are clearly diminishing returns as a function of model complexity on this problem:"
   ]
  },
  {
   "cell_type": "code",
   "execution_count": null,
   "id": "4fff4774",
   "metadata": {
    "id": "4fff4774",
    "outputId": "66dca14a-d254-40b1-fa4d-86a74af87d56"
   },
   "outputs": [],
   "source": [
    "x = np.arange(len(multi_performance))\n",
    "width = 0.3\n",
    "\n",
    "metric_name = 'mean_absolute_error'\n",
    "metric_index = lstm_model.metrics_names.index('mean_absolute_error')\n",
    "val_mae = [v[metric_index] for v in multi_val_performance.values()]\n",
    "test_mae = [v[metric_index] for v in multi_performance.values()]\n",
    "\n",
    "plt.bar(x - 0.17, val_mae, width, label='Validation')\n",
    "plt.bar(x + 0.17, test_mae, width, label='Test')\n",
    "plt.xticks(ticks=x, labels=multi_performance.keys(),\n",
    "           rotation=45)\n",
    "plt.ylabel(f'MAE (average over all times and outputs)')\n",
    "_ = plt.legend()"
   ]
  },
  {
   "cell_type": "markdown",
   "id": "34655faf",
   "metadata": {
    "id": "34655faf"
   },
   "source": [
    "### The metrics for the multi-output models in the first half of this tutorial show the performance averaged across all output features. These performances are similar but also averaged across output time steps"
   ]
  },
  {
   "cell_type": "code",
   "execution_count": null,
   "id": "0970a5e0",
   "metadata": {
    "id": "0970a5e0",
    "outputId": "aa8046fc-c212-4bf4-f55c-1716159f9288"
   },
   "outputs": [],
   "source": [
    "for name, value in multi_performance.items():\n",
    "  print(f'{name:8s}: {value[1]:0.4f}')"
   ]
  },
  {
   "cell_type": "markdown",
   "id": "114b2813",
   "metadata": {
    "id": "114b2813"
   },
   "source": [
    "### The gains achieved going from a dense model to convolutional and recurrent models are only a few percent (if any), and the autoregressive model performed clearly worse. So these more complex approaches may not be worth while on this problem, but there was no way to know without trying, and these models could be helpful for your problem."
   ]
  },
  {
   "cell_type": "code",
   "execution_count": null,
   "id": "72546c79",
   "metadata": {
    "id": "72546c79"
   },
   "outputs": [],
   "source": []
  }
 ],
 "metadata": {
  "accelerator": "GPU",
  "colab": {
   "gpuType": "T4",
   "provenance": []
  },
  "gpuClass": "standard",
  "kernelspec": {
   "display_name": "Python 3 (ipykernel)",
   "language": "python",
   "name": "python3"
  },
  "language_info": {
   "codemirror_mode": {
    "name": "ipython",
    "version": 3
   },
   "file_extension": ".py",
   "mimetype": "text/x-python",
   "name": "python",
   "nbconvert_exporter": "python",
   "pygments_lexer": "ipython3",
   "version": "3.10.12"
  }
 },
 "nbformat": 4,
 "nbformat_minor": 5
}
